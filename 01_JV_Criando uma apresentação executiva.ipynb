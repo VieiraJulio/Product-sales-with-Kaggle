{
 "cells": [
  {
   "cell_type": "markdown",
   "metadata": {
    "id": "Qs8xZrbMftAY"
   },
   "source": [
    "# Criando uma apresentação executiva\n",
    "- Vamos usar a base de vendas do kaggle disponível em:\n",
    "    - https://www.kaggle.com/datasets/rohitsahoo/sales-forecasting\n",
    "\n",
    "### O que queremos responder?\n",
    "- Como foi a **venda** nesse período?\n",
    "- Qual foi a **categoria mais vendida**?\n",
    "- Qual foi o **item mais vendido**?\n"
   ]
  },
  {
   "cell_type": "code",
   "execution_count": 3,
   "metadata": {
    "colab": {
     "base_uri": "https://localhost:8080/",
     "height": 600
    },
    "executionInfo": {
     "elapsed": 219,
     "status": "ok",
     "timestamp": 1659543777208,
     "user": {
      "displayName": "Lucas Leal",
      "userId": "11399223107874428450"
     },
     "user_tz": 420
    },
    "id": "EHi0C9hDftAc",
    "outputId": "f302d1fb-55e2-4444-a7e2-5afe3c9236e1"
   },
   "outputs": [],
   "source": [
    "# Importando as bibliotecas\n",
    "\n",
    "import datetime as dt\n",
    "import matplotlib.pyplot as plt\n",
    "import numpy as np\n",
    "import pandas as pd"
   ]
  },
  {
   "cell_type": "code",
   "execution_count": 4,
   "metadata": {},
   "outputs": [
    {
     "data": {
      "text/html": [
       "<div>\n",
       "<style scoped>\n",
       "    .dataframe tbody tr th:only-of-type {\n",
       "        vertical-align: middle;\n",
       "    }\n",
       "\n",
       "    .dataframe tbody tr th {\n",
       "        vertical-align: top;\n",
       "    }\n",
       "\n",
       "    .dataframe thead th {\n",
       "        text-align: right;\n",
       "    }\n",
       "</style>\n",
       "<table border=\"1\" class=\"dataframe\">\n",
       "  <thead>\n",
       "    <tr style=\"text-align: right;\">\n",
       "      <th></th>\n",
       "      <th>Row ID</th>\n",
       "      <th>Order ID</th>\n",
       "      <th>Order Date</th>\n",
       "      <th>Ship Date</th>\n",
       "      <th>Ship Mode</th>\n",
       "      <th>Customer ID</th>\n",
       "      <th>Customer Name</th>\n",
       "      <th>Segment</th>\n",
       "      <th>Country</th>\n",
       "      <th>City</th>\n",
       "      <th>State</th>\n",
       "      <th>Postal Code</th>\n",
       "      <th>Region</th>\n",
       "      <th>Product ID</th>\n",
       "      <th>Category</th>\n",
       "      <th>Sub-Category</th>\n",
       "      <th>Product Name</th>\n",
       "      <th>Sales</th>\n",
       "    </tr>\n",
       "  </thead>\n",
       "  <tbody>\n",
       "    <tr>\n",
       "      <th>0</th>\n",
       "      <td>1</td>\n",
       "      <td>CA-2017-152156</td>\n",
       "      <td>08/11/2017</td>\n",
       "      <td>11/11/2017</td>\n",
       "      <td>Second Class</td>\n",
       "      <td>CG-12520</td>\n",
       "      <td>Claire Gute</td>\n",
       "      <td>Consumer</td>\n",
       "      <td>United States</td>\n",
       "      <td>Henderson</td>\n",
       "      <td>Kentucky</td>\n",
       "      <td>42420.0</td>\n",
       "      <td>South</td>\n",
       "      <td>FUR-BO-10001798</td>\n",
       "      <td>Furniture</td>\n",
       "      <td>Bookcases</td>\n",
       "      <td>Bush Somerset Collection Bookcase</td>\n",
       "      <td>261.9600</td>\n",
       "    </tr>\n",
       "    <tr>\n",
       "      <th>1</th>\n",
       "      <td>2</td>\n",
       "      <td>CA-2017-152156</td>\n",
       "      <td>08/11/2017</td>\n",
       "      <td>11/11/2017</td>\n",
       "      <td>Second Class</td>\n",
       "      <td>CG-12520</td>\n",
       "      <td>Claire Gute</td>\n",
       "      <td>Consumer</td>\n",
       "      <td>United States</td>\n",
       "      <td>Henderson</td>\n",
       "      <td>Kentucky</td>\n",
       "      <td>42420.0</td>\n",
       "      <td>South</td>\n",
       "      <td>FUR-CH-10000454</td>\n",
       "      <td>Furniture</td>\n",
       "      <td>Chairs</td>\n",
       "      <td>Hon Deluxe Fabric Upholstered Stacking Chairs,...</td>\n",
       "      <td>731.9400</td>\n",
       "    </tr>\n",
       "    <tr>\n",
       "      <th>2</th>\n",
       "      <td>3</td>\n",
       "      <td>CA-2017-138688</td>\n",
       "      <td>12/06/2017</td>\n",
       "      <td>16/06/2017</td>\n",
       "      <td>Second Class</td>\n",
       "      <td>DV-13045</td>\n",
       "      <td>Darrin Van Huff</td>\n",
       "      <td>Corporate</td>\n",
       "      <td>United States</td>\n",
       "      <td>Los Angeles</td>\n",
       "      <td>California</td>\n",
       "      <td>90036.0</td>\n",
       "      <td>West</td>\n",
       "      <td>OFF-LA-10000240</td>\n",
       "      <td>Office Supplies</td>\n",
       "      <td>Labels</td>\n",
       "      <td>Self-Adhesive Address Labels for Typewriters b...</td>\n",
       "      <td>14.6200</td>\n",
       "    </tr>\n",
       "    <tr>\n",
       "      <th>3</th>\n",
       "      <td>4</td>\n",
       "      <td>US-2016-108966</td>\n",
       "      <td>11/10/2016</td>\n",
       "      <td>18/10/2016</td>\n",
       "      <td>Standard Class</td>\n",
       "      <td>SO-20335</td>\n",
       "      <td>Sean O'Donnell</td>\n",
       "      <td>Consumer</td>\n",
       "      <td>United States</td>\n",
       "      <td>Fort Lauderdale</td>\n",
       "      <td>Florida</td>\n",
       "      <td>33311.0</td>\n",
       "      <td>South</td>\n",
       "      <td>FUR-TA-10000577</td>\n",
       "      <td>Furniture</td>\n",
       "      <td>Tables</td>\n",
       "      <td>Bretford CR4500 Series Slim Rectangular Table</td>\n",
       "      <td>957.5775</td>\n",
       "    </tr>\n",
       "    <tr>\n",
       "      <th>4</th>\n",
       "      <td>5</td>\n",
       "      <td>US-2016-108966</td>\n",
       "      <td>11/10/2016</td>\n",
       "      <td>18/10/2016</td>\n",
       "      <td>Standard Class</td>\n",
       "      <td>SO-20335</td>\n",
       "      <td>Sean O'Donnell</td>\n",
       "      <td>Consumer</td>\n",
       "      <td>United States</td>\n",
       "      <td>Fort Lauderdale</td>\n",
       "      <td>Florida</td>\n",
       "      <td>33311.0</td>\n",
       "      <td>South</td>\n",
       "      <td>OFF-ST-10000760</td>\n",
       "      <td>Office Supplies</td>\n",
       "      <td>Storage</td>\n",
       "      <td>Eldon Fold 'N Roll Cart System</td>\n",
       "      <td>22.3680</td>\n",
       "    </tr>\n",
       "  </tbody>\n",
       "</table>\n",
       "</div>"
      ],
      "text/plain": [
       "   Row ID        Order ID  Order Date   Ship Date       Ship Mode Customer ID  \\\n",
       "0       1  CA-2017-152156  08/11/2017  11/11/2017    Second Class    CG-12520   \n",
       "1       2  CA-2017-152156  08/11/2017  11/11/2017    Second Class    CG-12520   \n",
       "2       3  CA-2017-138688  12/06/2017  16/06/2017    Second Class    DV-13045   \n",
       "3       4  US-2016-108966  11/10/2016  18/10/2016  Standard Class    SO-20335   \n",
       "4       5  US-2016-108966  11/10/2016  18/10/2016  Standard Class    SO-20335   \n",
       "\n",
       "     Customer Name    Segment        Country             City       State  \\\n",
       "0      Claire Gute   Consumer  United States        Henderson    Kentucky   \n",
       "1      Claire Gute   Consumer  United States        Henderson    Kentucky   \n",
       "2  Darrin Van Huff  Corporate  United States      Los Angeles  California   \n",
       "3   Sean O'Donnell   Consumer  United States  Fort Lauderdale     Florida   \n",
       "4   Sean O'Donnell   Consumer  United States  Fort Lauderdale     Florida   \n",
       "\n",
       "   Postal Code Region       Product ID         Category Sub-Category  \\\n",
       "0      42420.0  South  FUR-BO-10001798        Furniture    Bookcases   \n",
       "1      42420.0  South  FUR-CH-10000454        Furniture       Chairs   \n",
       "2      90036.0   West  OFF-LA-10000240  Office Supplies       Labels   \n",
       "3      33311.0  South  FUR-TA-10000577        Furniture       Tables   \n",
       "4      33311.0  South  OFF-ST-10000760  Office Supplies      Storage   \n",
       "\n",
       "                                        Product Name     Sales  \n",
       "0                  Bush Somerset Collection Bookcase  261.9600  \n",
       "1  Hon Deluxe Fabric Upholstered Stacking Chairs,...  731.9400  \n",
       "2  Self-Adhesive Address Labels for Typewriters b...   14.6200  \n",
       "3      Bretford CR4500 Series Slim Rectangular Table  957.5775  \n",
       "4                     Eldon Fold 'N Roll Cart System   22.3680  "
      ]
     },
     "execution_count": 4,
     "metadata": {},
     "output_type": "execute_result"
    }
   ],
   "source": [
    "# Data Frame\n",
    "\n",
    "BASE_CSV = r\"dados/Criando uma apresentação executiva.csv\"\n",
    "base = pd.read_csv(BASE_CSV) \n",
    "\n",
    "base.head()"
   ]
  },
  {
   "cell_type": "code",
   "execution_count": 5,
   "metadata": {
    "id": "YsFEsgoXftAe"
   },
   "outputs": [
    {
     "name": "stdout",
     "output_type": "stream",
     "text": [
      "<class 'pandas.core.frame.DataFrame'>\n",
      "RangeIndex: 9800 entries, 0 to 9799\n",
      "Data columns (total 18 columns):\n",
      " #   Column         Non-Null Count  Dtype  \n",
      "---  ------         --------------  -----  \n",
      " 0   Row ID         9800 non-null   int64  \n",
      " 1   Order ID       9800 non-null   object \n",
      " 2   Order Date     9800 non-null   object \n",
      " 3   Ship Date      9800 non-null   object \n",
      " 4   Ship Mode      9800 non-null   object \n",
      " 5   Customer ID    9800 non-null   object \n",
      " 6   Customer Name  9800 non-null   object \n",
      " 7   Segment        9800 non-null   object \n",
      " 8   Country        9800 non-null   object \n",
      " 9   City           9800 non-null   object \n",
      " 10  State          9800 non-null   object \n",
      " 11  Postal Code    9789 non-null   float64\n",
      " 12  Region         9800 non-null   object \n",
      " 13  Product ID     9800 non-null   object \n",
      " 14  Category       9800 non-null   object \n",
      " 15  Sub-Category   9800 non-null   object \n",
      " 16  Product Name   9800 non-null   object \n",
      " 17  Sales          9800 non-null   float64\n",
      "dtypes: float64(2), int64(1), object(15)\n",
      "memory usage: 1.3+ MB\n"
     ]
    }
   ],
   "source": [
    "# Visualizando as informações da base\n",
    "base.info()"
   ]
  },
  {
   "cell_type": "code",
   "execution_count": 6,
   "metadata": {},
   "outputs": [
    {
     "data": {
      "text/html": [
       "<div>\n",
       "<style scoped>\n",
       "    .dataframe tbody tr th:only-of-type {\n",
       "        vertical-align: middle;\n",
       "    }\n",
       "\n",
       "    .dataframe tbody tr th {\n",
       "        vertical-align: top;\n",
       "    }\n",
       "\n",
       "    .dataframe thead th {\n",
       "        text-align: right;\n",
       "    }\n",
       "</style>\n",
       "<table border=\"1\" class=\"dataframe\">\n",
       "  <thead>\n",
       "    <tr style=\"text-align: right;\">\n",
       "      <th></th>\n",
       "      <th>Row ID</th>\n",
       "      <th>Order ID</th>\n",
       "      <th>Order Date</th>\n",
       "      <th>Ship Date</th>\n",
       "      <th>Ship Mode</th>\n",
       "      <th>Customer ID</th>\n",
       "      <th>Customer Name</th>\n",
       "      <th>Segment</th>\n",
       "      <th>Country</th>\n",
       "      <th>City</th>\n",
       "      <th>State</th>\n",
       "      <th>Postal Code</th>\n",
       "      <th>Region</th>\n",
       "      <th>Product ID</th>\n",
       "      <th>Category</th>\n",
       "      <th>Sub-Category</th>\n",
       "      <th>Product Name</th>\n",
       "      <th>Sales</th>\n",
       "    </tr>\n",
       "  </thead>\n",
       "  <tbody>\n",
       "    <tr>\n",
       "      <th>2234</th>\n",
       "      <td>2235</td>\n",
       "      <td>CA-2018-104066</td>\n",
       "      <td>05/12/2018</td>\n",
       "      <td>10/12/2018</td>\n",
       "      <td>Standard Class</td>\n",
       "      <td>QJ-19255</td>\n",
       "      <td>Quincy Jones</td>\n",
       "      <td>Corporate</td>\n",
       "      <td>United States</td>\n",
       "      <td>Burlington</td>\n",
       "      <td>Vermont</td>\n",
       "      <td>NaN</td>\n",
       "      <td>East</td>\n",
       "      <td>TEC-AC-10001013</td>\n",
       "      <td>Technology</td>\n",
       "      <td>Accessories</td>\n",
       "      <td>Logitech ClearChat Comfort/USB Headset H390</td>\n",
       "      <td>205.03</td>\n",
       "    </tr>\n",
       "    <tr>\n",
       "      <th>5274</th>\n",
       "      <td>5275</td>\n",
       "      <td>CA-2016-162887</td>\n",
       "      <td>07/11/2016</td>\n",
       "      <td>09/11/2016</td>\n",
       "      <td>Second Class</td>\n",
       "      <td>SV-20785</td>\n",
       "      <td>Stewart Visinsky</td>\n",
       "      <td>Consumer</td>\n",
       "      <td>United States</td>\n",
       "      <td>Burlington</td>\n",
       "      <td>Vermont</td>\n",
       "      <td>NaN</td>\n",
       "      <td>East</td>\n",
       "      <td>FUR-CH-10000595</td>\n",
       "      <td>Furniture</td>\n",
       "      <td>Chairs</td>\n",
       "      <td>Safco Contoured Stacking Chairs</td>\n",
       "      <td>715.20</td>\n",
       "    </tr>\n",
       "    <tr>\n",
       "      <th>8798</th>\n",
       "      <td>8799</td>\n",
       "      <td>US-2017-150140</td>\n",
       "      <td>06/04/2017</td>\n",
       "      <td>10/04/2017</td>\n",
       "      <td>Standard Class</td>\n",
       "      <td>VM-21685</td>\n",
       "      <td>Valerie Mitchum</td>\n",
       "      <td>Home Office</td>\n",
       "      <td>United States</td>\n",
       "      <td>Burlington</td>\n",
       "      <td>Vermont</td>\n",
       "      <td>NaN</td>\n",
       "      <td>East</td>\n",
       "      <td>TEC-PH-10002555</td>\n",
       "      <td>Technology</td>\n",
       "      <td>Phones</td>\n",
       "      <td>Nortel Meridian M5316 Digital phone</td>\n",
       "      <td>1294.75</td>\n",
       "    </tr>\n",
       "    <tr>\n",
       "      <th>9146</th>\n",
       "      <td>9147</td>\n",
       "      <td>US-2017-165505</td>\n",
       "      <td>23/01/2017</td>\n",
       "      <td>27/01/2017</td>\n",
       "      <td>Standard Class</td>\n",
       "      <td>CB-12535</td>\n",
       "      <td>Claudia Bergmann</td>\n",
       "      <td>Corporate</td>\n",
       "      <td>United States</td>\n",
       "      <td>Burlington</td>\n",
       "      <td>Vermont</td>\n",
       "      <td>NaN</td>\n",
       "      <td>East</td>\n",
       "      <td>TEC-AC-10002926</td>\n",
       "      <td>Technology</td>\n",
       "      <td>Accessories</td>\n",
       "      <td>Logitech Wireless Marathon Mouse M705</td>\n",
       "      <td>99.98</td>\n",
       "    </tr>\n",
       "    <tr>\n",
       "      <th>9147</th>\n",
       "      <td>9148</td>\n",
       "      <td>US-2017-165505</td>\n",
       "      <td>23/01/2017</td>\n",
       "      <td>27/01/2017</td>\n",
       "      <td>Standard Class</td>\n",
       "      <td>CB-12535</td>\n",
       "      <td>Claudia Bergmann</td>\n",
       "      <td>Corporate</td>\n",
       "      <td>United States</td>\n",
       "      <td>Burlington</td>\n",
       "      <td>Vermont</td>\n",
       "      <td>NaN</td>\n",
       "      <td>East</td>\n",
       "      <td>OFF-AR-10003477</td>\n",
       "      <td>Office Supplies</td>\n",
       "      <td>Art</td>\n",
       "      <td>4009 Highlighters</td>\n",
       "      <td>8.04</td>\n",
       "    </tr>\n",
       "    <tr>\n",
       "      <th>9148</th>\n",
       "      <td>9149</td>\n",
       "      <td>US-2017-165505</td>\n",
       "      <td>23/01/2017</td>\n",
       "      <td>27/01/2017</td>\n",
       "      <td>Standard Class</td>\n",
       "      <td>CB-12535</td>\n",
       "      <td>Claudia Bergmann</td>\n",
       "      <td>Corporate</td>\n",
       "      <td>United States</td>\n",
       "      <td>Burlington</td>\n",
       "      <td>Vermont</td>\n",
       "      <td>NaN</td>\n",
       "      <td>East</td>\n",
       "      <td>OFF-ST-10001526</td>\n",
       "      <td>Office Supplies</td>\n",
       "      <td>Storage</td>\n",
       "      <td>Iceberg Mobile Mega Data/Printer Cart</td>\n",
       "      <td>1564.29</td>\n",
       "    </tr>\n",
       "    <tr>\n",
       "      <th>9386</th>\n",
       "      <td>9387</td>\n",
       "      <td>US-2018-127292</td>\n",
       "      <td>19/01/2018</td>\n",
       "      <td>23/01/2018</td>\n",
       "      <td>Standard Class</td>\n",
       "      <td>RM-19375</td>\n",
       "      <td>Raymond Messe</td>\n",
       "      <td>Consumer</td>\n",
       "      <td>United States</td>\n",
       "      <td>Burlington</td>\n",
       "      <td>Vermont</td>\n",
       "      <td>NaN</td>\n",
       "      <td>East</td>\n",
       "      <td>OFF-PA-10000157</td>\n",
       "      <td>Office Supplies</td>\n",
       "      <td>Paper</td>\n",
       "      <td>Xerox 191</td>\n",
       "      <td>79.92</td>\n",
       "    </tr>\n",
       "    <tr>\n",
       "      <th>9387</th>\n",
       "      <td>9388</td>\n",
       "      <td>US-2018-127292</td>\n",
       "      <td>19/01/2018</td>\n",
       "      <td>23/01/2018</td>\n",
       "      <td>Standard Class</td>\n",
       "      <td>RM-19375</td>\n",
       "      <td>Raymond Messe</td>\n",
       "      <td>Consumer</td>\n",
       "      <td>United States</td>\n",
       "      <td>Burlington</td>\n",
       "      <td>Vermont</td>\n",
       "      <td>NaN</td>\n",
       "      <td>East</td>\n",
       "      <td>OFF-PA-10001970</td>\n",
       "      <td>Office Supplies</td>\n",
       "      <td>Paper</td>\n",
       "      <td>Xerox 1881</td>\n",
       "      <td>12.28</td>\n",
       "    </tr>\n",
       "    <tr>\n",
       "      <th>9388</th>\n",
       "      <td>9389</td>\n",
       "      <td>US-2018-127292</td>\n",
       "      <td>19/01/2018</td>\n",
       "      <td>23/01/2018</td>\n",
       "      <td>Standard Class</td>\n",
       "      <td>RM-19375</td>\n",
       "      <td>Raymond Messe</td>\n",
       "      <td>Consumer</td>\n",
       "      <td>United States</td>\n",
       "      <td>Burlington</td>\n",
       "      <td>Vermont</td>\n",
       "      <td>NaN</td>\n",
       "      <td>East</td>\n",
       "      <td>OFF-AP-10000828</td>\n",
       "      <td>Office Supplies</td>\n",
       "      <td>Appliances</td>\n",
       "      <td>Avanti 4.4 Cu. Ft. Refrigerator</td>\n",
       "      <td>542.94</td>\n",
       "    </tr>\n",
       "    <tr>\n",
       "      <th>9389</th>\n",
       "      <td>9390</td>\n",
       "      <td>US-2018-127292</td>\n",
       "      <td>19/01/2018</td>\n",
       "      <td>23/01/2018</td>\n",
       "      <td>Standard Class</td>\n",
       "      <td>RM-19375</td>\n",
       "      <td>Raymond Messe</td>\n",
       "      <td>Consumer</td>\n",
       "      <td>United States</td>\n",
       "      <td>Burlington</td>\n",
       "      <td>Vermont</td>\n",
       "      <td>NaN</td>\n",
       "      <td>East</td>\n",
       "      <td>OFF-EN-10001509</td>\n",
       "      <td>Office Supplies</td>\n",
       "      <td>Envelopes</td>\n",
       "      <td>Poly String Tie Envelopes</td>\n",
       "      <td>2.04</td>\n",
       "    </tr>\n",
       "    <tr>\n",
       "      <th>9741</th>\n",
       "      <td>9742</td>\n",
       "      <td>CA-2016-117086</td>\n",
       "      <td>08/11/2016</td>\n",
       "      <td>12/11/2016</td>\n",
       "      <td>Standard Class</td>\n",
       "      <td>QJ-19255</td>\n",
       "      <td>Quincy Jones</td>\n",
       "      <td>Corporate</td>\n",
       "      <td>United States</td>\n",
       "      <td>Burlington</td>\n",
       "      <td>Vermont</td>\n",
       "      <td>NaN</td>\n",
       "      <td>East</td>\n",
       "      <td>FUR-BO-10004834</td>\n",
       "      <td>Furniture</td>\n",
       "      <td>Bookcases</td>\n",
       "      <td>Riverside Palais Royal Lawyers Bookcase, Royal...</td>\n",
       "      <td>4404.90</td>\n",
       "    </tr>\n",
       "  </tbody>\n",
       "</table>\n",
       "</div>"
      ],
      "text/plain": [
       "      Row ID        Order ID  Order Date   Ship Date       Ship Mode  \\\n",
       "2234    2235  CA-2018-104066  05/12/2018  10/12/2018  Standard Class   \n",
       "5274    5275  CA-2016-162887  07/11/2016  09/11/2016    Second Class   \n",
       "8798    8799  US-2017-150140  06/04/2017  10/04/2017  Standard Class   \n",
       "9146    9147  US-2017-165505  23/01/2017  27/01/2017  Standard Class   \n",
       "9147    9148  US-2017-165505  23/01/2017  27/01/2017  Standard Class   \n",
       "9148    9149  US-2017-165505  23/01/2017  27/01/2017  Standard Class   \n",
       "9386    9387  US-2018-127292  19/01/2018  23/01/2018  Standard Class   \n",
       "9387    9388  US-2018-127292  19/01/2018  23/01/2018  Standard Class   \n",
       "9388    9389  US-2018-127292  19/01/2018  23/01/2018  Standard Class   \n",
       "9389    9390  US-2018-127292  19/01/2018  23/01/2018  Standard Class   \n",
       "9741    9742  CA-2016-117086  08/11/2016  12/11/2016  Standard Class   \n",
       "\n",
       "     Customer ID     Customer Name      Segment        Country        City  \\\n",
       "2234    QJ-19255      Quincy Jones    Corporate  United States  Burlington   \n",
       "5274    SV-20785  Stewart Visinsky     Consumer  United States  Burlington   \n",
       "8798    VM-21685   Valerie Mitchum  Home Office  United States  Burlington   \n",
       "9146    CB-12535  Claudia Bergmann    Corporate  United States  Burlington   \n",
       "9147    CB-12535  Claudia Bergmann    Corporate  United States  Burlington   \n",
       "9148    CB-12535  Claudia Bergmann    Corporate  United States  Burlington   \n",
       "9386    RM-19375     Raymond Messe     Consumer  United States  Burlington   \n",
       "9387    RM-19375     Raymond Messe     Consumer  United States  Burlington   \n",
       "9388    RM-19375     Raymond Messe     Consumer  United States  Burlington   \n",
       "9389    RM-19375     Raymond Messe     Consumer  United States  Burlington   \n",
       "9741    QJ-19255      Quincy Jones    Corporate  United States  Burlington   \n",
       "\n",
       "        State  Postal Code Region       Product ID         Category  \\\n",
       "2234  Vermont          NaN   East  TEC-AC-10001013       Technology   \n",
       "5274  Vermont          NaN   East  FUR-CH-10000595        Furniture   \n",
       "8798  Vermont          NaN   East  TEC-PH-10002555       Technology   \n",
       "9146  Vermont          NaN   East  TEC-AC-10002926       Technology   \n",
       "9147  Vermont          NaN   East  OFF-AR-10003477  Office Supplies   \n",
       "9148  Vermont          NaN   East  OFF-ST-10001526  Office Supplies   \n",
       "9386  Vermont          NaN   East  OFF-PA-10000157  Office Supplies   \n",
       "9387  Vermont          NaN   East  OFF-PA-10001970  Office Supplies   \n",
       "9388  Vermont          NaN   East  OFF-AP-10000828  Office Supplies   \n",
       "9389  Vermont          NaN   East  OFF-EN-10001509  Office Supplies   \n",
       "9741  Vermont          NaN   East  FUR-BO-10004834        Furniture   \n",
       "\n",
       "     Sub-Category                                       Product Name    Sales  \n",
       "2234  Accessories        Logitech ClearChat Comfort/USB Headset H390   205.03  \n",
       "5274       Chairs                    Safco Contoured Stacking Chairs   715.20  \n",
       "8798       Phones                Nortel Meridian M5316 Digital phone  1294.75  \n",
       "9146  Accessories              Logitech Wireless Marathon Mouse M705    99.98  \n",
       "9147          Art                                  4009 Highlighters     8.04  \n",
       "9148      Storage              Iceberg Mobile Mega Data/Printer Cart  1564.29  \n",
       "9386        Paper                                          Xerox 191    79.92  \n",
       "9387        Paper                                         Xerox 1881    12.28  \n",
       "9388   Appliances                    Avanti 4.4 Cu. Ft. Refrigerator   542.94  \n",
       "9389    Envelopes                          Poly String Tie Envelopes     2.04  \n",
       "9741    Bookcases  Riverside Palais Royal Lawyers Bookcase, Royal...  4404.90  "
      ]
     },
     "execution_count": 6,
     "metadata": {},
     "output_type": "execute_result"
    }
   ],
   "source": [
    "# Verificando os registros com Postal Code vazio\n",
    "\n",
    "base[base['Postal Code'].isnull()]"
   ]
  },
  {
   "cell_type": "code",
   "execution_count": 7,
   "metadata": {
    "id": "pAcxcVHkftAg"
   },
   "outputs": [
    {
     "data": {
      "text/html": [
       "<div>\n",
       "<style scoped>\n",
       "    .dataframe tbody tr th:only-of-type {\n",
       "        vertical-align: middle;\n",
       "    }\n",
       "\n",
       "    .dataframe tbody tr th {\n",
       "        vertical-align: top;\n",
       "    }\n",
       "\n",
       "    .dataframe thead th {\n",
       "        text-align: right;\n",
       "    }\n",
       "</style>\n",
       "<table border=\"1\" class=\"dataframe\">\n",
       "  <thead>\n",
       "    <tr style=\"text-align: right;\">\n",
       "      <th></th>\n",
       "      <th>State</th>\n",
       "      <th>City</th>\n",
       "      <th>Postal Code</th>\n",
       "    </tr>\n",
       "  </thead>\n",
       "  <tbody>\n",
       "    <tr>\n",
       "      <th>2234</th>\n",
       "      <td>Vermont</td>\n",
       "      <td>Burlington</td>\n",
       "      <td>NaN</td>\n",
       "    </tr>\n",
       "    <tr>\n",
       "      <th>5274</th>\n",
       "      <td>Vermont</td>\n",
       "      <td>Burlington</td>\n",
       "      <td>NaN</td>\n",
       "    </tr>\n",
       "    <tr>\n",
       "      <th>8798</th>\n",
       "      <td>Vermont</td>\n",
       "      <td>Burlington</td>\n",
       "      <td>NaN</td>\n",
       "    </tr>\n",
       "    <tr>\n",
       "      <th>9146</th>\n",
       "      <td>Vermont</td>\n",
       "      <td>Burlington</td>\n",
       "      <td>NaN</td>\n",
       "    </tr>\n",
       "    <tr>\n",
       "      <th>9147</th>\n",
       "      <td>Vermont</td>\n",
       "      <td>Burlington</td>\n",
       "      <td>NaN</td>\n",
       "    </tr>\n",
       "    <tr>\n",
       "      <th>9148</th>\n",
       "      <td>Vermont</td>\n",
       "      <td>Burlington</td>\n",
       "      <td>NaN</td>\n",
       "    </tr>\n",
       "    <tr>\n",
       "      <th>9386</th>\n",
       "      <td>Vermont</td>\n",
       "      <td>Burlington</td>\n",
       "      <td>NaN</td>\n",
       "    </tr>\n",
       "    <tr>\n",
       "      <th>9387</th>\n",
       "      <td>Vermont</td>\n",
       "      <td>Burlington</td>\n",
       "      <td>NaN</td>\n",
       "    </tr>\n",
       "    <tr>\n",
       "      <th>9388</th>\n",
       "      <td>Vermont</td>\n",
       "      <td>Burlington</td>\n",
       "      <td>NaN</td>\n",
       "    </tr>\n",
       "    <tr>\n",
       "      <th>9389</th>\n",
       "      <td>Vermont</td>\n",
       "      <td>Burlington</td>\n",
       "      <td>NaN</td>\n",
       "    </tr>\n",
       "    <tr>\n",
       "      <th>9741</th>\n",
       "      <td>Vermont</td>\n",
       "      <td>Burlington</td>\n",
       "      <td>NaN</td>\n",
       "    </tr>\n",
       "  </tbody>\n",
       "</table>\n",
       "</div>"
      ],
      "text/plain": [
       "        State        City  Postal Code\n",
       "2234  Vermont  Burlington          NaN\n",
       "5274  Vermont  Burlington          NaN\n",
       "8798  Vermont  Burlington          NaN\n",
       "9146  Vermont  Burlington          NaN\n",
       "9147  Vermont  Burlington          NaN\n",
       "9148  Vermont  Burlington          NaN\n",
       "9386  Vermont  Burlington          NaN\n",
       "9387  Vermont  Burlington          NaN\n",
       "9388  Vermont  Burlington          NaN\n",
       "9389  Vermont  Burlington          NaN\n",
       "9741  Vermont  Burlington          NaN"
      ]
     },
     "execution_count": 7,
     "metadata": {},
     "output_type": "execute_result"
    }
   ],
   "source": [
    "# Verificando se existe algum registro de Burlington, Vermont com Postal Code \n",
    "\n",
    "base[['State', 'City', 'Postal Code']].loc[base['State'] == 'Vermont']"
   ]
  },
  {
   "cell_type": "code",
   "execution_count": 8,
   "metadata": {
    "id": "wXmfminFftAh"
   },
   "outputs": [
    {
     "data": {
      "text/html": [
       "<div>\n",
       "<style scoped>\n",
       "    .dataframe tbody tr th:only-of-type {\n",
       "        vertical-align: middle;\n",
       "    }\n",
       "\n",
       "    .dataframe tbody tr th {\n",
       "        vertical-align: top;\n",
       "    }\n",
       "\n",
       "    .dataframe thead th {\n",
       "        text-align: right;\n",
       "    }\n",
       "</style>\n",
       "<table border=\"1\" class=\"dataframe\">\n",
       "  <thead>\n",
       "    <tr style=\"text-align: right;\">\n",
       "      <th></th>\n",
       "      <th>State</th>\n",
       "      <th>City</th>\n",
       "      <th>Postal Code</th>\n",
       "    </tr>\n",
       "  </thead>\n",
       "  <tbody>\n",
       "    <tr>\n",
       "      <th>2234</th>\n",
       "      <td>Vermont</td>\n",
       "      <td>Burlington</td>\n",
       "      <td>5401.0</td>\n",
       "    </tr>\n",
       "    <tr>\n",
       "      <th>5274</th>\n",
       "      <td>Vermont</td>\n",
       "      <td>Burlington</td>\n",
       "      <td>5401.0</td>\n",
       "    </tr>\n",
       "    <tr>\n",
       "      <th>8798</th>\n",
       "      <td>Vermont</td>\n",
       "      <td>Burlington</td>\n",
       "      <td>5401.0</td>\n",
       "    </tr>\n",
       "    <tr>\n",
       "      <th>9146</th>\n",
       "      <td>Vermont</td>\n",
       "      <td>Burlington</td>\n",
       "      <td>5401.0</td>\n",
       "    </tr>\n",
       "    <tr>\n",
       "      <th>9147</th>\n",
       "      <td>Vermont</td>\n",
       "      <td>Burlington</td>\n",
       "      <td>5401.0</td>\n",
       "    </tr>\n",
       "    <tr>\n",
       "      <th>9148</th>\n",
       "      <td>Vermont</td>\n",
       "      <td>Burlington</td>\n",
       "      <td>5401.0</td>\n",
       "    </tr>\n",
       "    <tr>\n",
       "      <th>9386</th>\n",
       "      <td>Vermont</td>\n",
       "      <td>Burlington</td>\n",
       "      <td>5401.0</td>\n",
       "    </tr>\n",
       "    <tr>\n",
       "      <th>9387</th>\n",
       "      <td>Vermont</td>\n",
       "      <td>Burlington</td>\n",
       "      <td>5401.0</td>\n",
       "    </tr>\n",
       "    <tr>\n",
       "      <th>9388</th>\n",
       "      <td>Vermont</td>\n",
       "      <td>Burlington</td>\n",
       "      <td>5401.0</td>\n",
       "    </tr>\n",
       "    <tr>\n",
       "      <th>9389</th>\n",
       "      <td>Vermont</td>\n",
       "      <td>Burlington</td>\n",
       "      <td>5401.0</td>\n",
       "    </tr>\n",
       "    <tr>\n",
       "      <th>9741</th>\n",
       "      <td>Vermont</td>\n",
       "      <td>Burlington</td>\n",
       "      <td>5401.0</td>\n",
       "    </tr>\n",
       "  </tbody>\n",
       "</table>\n",
       "</div>"
      ],
      "text/plain": [
       "        State        City Postal Code\n",
       "2234  Vermont  Burlington      5401.0\n",
       "5274  Vermont  Burlington      5401.0\n",
       "8798  Vermont  Burlington      5401.0\n",
       "9146  Vermont  Burlington      5401.0\n",
       "9147  Vermont  Burlington      5401.0\n",
       "9148  Vermont  Burlington      5401.0\n",
       "9386  Vermont  Burlington      5401.0\n",
       "9387  Vermont  Burlington      5401.0\n",
       "9388  Vermont  Burlington      5401.0\n",
       "9389  Vermont  Burlington      5401.0\n",
       "9741  Vermont  Burlington      5401.0"
      ]
     },
     "execution_count": 8,
     "metadata": {},
     "output_type": "execute_result"
    }
   ],
   "source": [
    "# Atualizando essa informação\n",
    "\n",
    "base.loc[base['State'] == 'Vermont', 'Postal Code']  = 5401\n",
    "base['Postal Code'] = base['Postal Code'].astype('object')\n",
    "\n",
    "base[['State', 'City', 'Postal Code']].loc[base['State'] == 'Vermont']\n"
   ]
  },
  {
   "cell_type": "code",
   "execution_count": 9,
   "metadata": {
    "id": "u97xLfklftAh"
   },
   "outputs": [
    {
     "name": "stdout",
     "output_type": "stream",
     "text": [
      "<class 'pandas.core.frame.DataFrame'>\n",
      "RangeIndex: 9800 entries, 0 to 9799\n",
      "Data columns (total 18 columns):\n",
      " #   Column         Non-Null Count  Dtype  \n",
      "---  ------         --------------  -----  \n",
      " 0   Row ID         9800 non-null   int64  \n",
      " 1   Order ID       9800 non-null   object \n",
      " 2   Order Date     9800 non-null   object \n",
      " 3   Ship Date      9800 non-null   object \n",
      " 4   Ship Mode      9800 non-null   object \n",
      " 5   Customer ID    9800 non-null   object \n",
      " 6   Customer Name  9800 non-null   object \n",
      " 7   Segment        9800 non-null   object \n",
      " 8   Country        9800 non-null   object \n",
      " 9   City           9800 non-null   object \n",
      " 10  State          9800 non-null   object \n",
      " 11  Postal Code    9800 non-null   object \n",
      " 12  Region         9800 non-null   object \n",
      " 13  Product ID     9800 non-null   object \n",
      " 14  Category       9800 non-null   object \n",
      " 15  Sub-Category   9800 non-null   object \n",
      " 16  Product Name   9800 non-null   object \n",
      " 17  Sales          9800 non-null   float64\n",
      "dtypes: float64(1), int64(1), object(16)\n",
      "memory usage: 1.3+ MB\n"
     ]
    }
   ],
   "source": [
    "# Verificando se ainda existe algum valor nulo\n",
    "base.info()"
   ]
  },
  {
   "cell_type": "code",
   "execution_count": 10,
   "metadata": {},
   "outputs": [
    {
     "data": {
      "text/plain": [
       "array(['08/11/2017', '12/06/2017', '11/10/2016', ..., '18/06/2015',\n",
       "       '28/02/2018', '09/05/2016'], dtype=object)"
      ]
     },
     "execution_count": 10,
     "metadata": {},
     "output_type": "execute_result"
    }
   ],
   "source": [
    "base['Order Date'].unique()"
   ]
  },
  {
   "cell_type": "code",
   "execution_count": 11,
   "metadata": {
    "id": "bHZTFqMXftAi"
   },
   "outputs": [],
   "source": [
    "# Formatando Datas\n",
    "\n",
    "base['Order Date'] = pd.to_datetime(base['Order Date'], format = \"%d/%m/%Y\")\n",
    "base['Ship Date'] = pd.to_datetime(base['Ship Date'], format = \"%d/%m/%Y\")"
   ]
  },
  {
   "cell_type": "code",
   "execution_count": 12,
   "metadata": {
    "id": "fFKNDKz4ftAj"
   },
   "outputs": [
    {
     "name": "stdout",
     "output_type": "stream",
     "text": [
      "<class 'pandas.core.frame.DataFrame'>\n",
      "RangeIndex: 9800 entries, 0 to 9799\n",
      "Data columns (total 18 columns):\n",
      " #   Column         Non-Null Count  Dtype         \n",
      "---  ------         --------------  -----         \n",
      " 0   Row ID         9800 non-null   int64         \n",
      " 1   Order ID       9800 non-null   object        \n",
      " 2   Order Date     9800 non-null   datetime64[ns]\n",
      " 3   Ship Date      9800 non-null   datetime64[ns]\n",
      " 4   Ship Mode      9800 non-null   object        \n",
      " 5   Customer ID    9800 non-null   object        \n",
      " 6   Customer Name  9800 non-null   object        \n",
      " 7   Segment        9800 non-null   object        \n",
      " 8   Country        9800 non-null   object        \n",
      " 9   City           9800 non-null   object        \n",
      " 10  State          9800 non-null   object        \n",
      " 11  Postal Code    9800 non-null   object        \n",
      " 12  Region         9800 non-null   object        \n",
      " 13  Product ID     9800 non-null   object        \n",
      " 14  Category       9800 non-null   object        \n",
      " 15  Sub-Category   9800 non-null   object        \n",
      " 16  Product Name   9800 non-null   object        \n",
      " 17  Sales          9800 non-null   float64       \n",
      "dtypes: datetime64[ns](2), float64(1), int64(1), object(14)\n",
      "memory usage: 1.3+ MB\n"
     ]
    }
   ],
   "source": [
    "base.info()"
   ]
  },
  {
   "cell_type": "code",
   "execution_count": 13,
   "metadata": {},
   "outputs": [
    {
     "data": {
      "text/plain": [
       "Timestamp('2015-01-03 00:00:00')"
      ]
     },
     "execution_count": 13,
     "metadata": {},
     "output_type": "execute_result"
    }
   ],
   "source": [
    "base['Order Date'].min()"
   ]
  },
  {
   "cell_type": "code",
   "execution_count": 14,
   "metadata": {},
   "outputs": [
    {
     "data": {
      "text/plain": [
       "Timestamp('2018-12-30 00:00:00')"
      ]
     },
     "execution_count": 14,
     "metadata": {},
     "output_type": "execute_result"
    }
   ],
   "source": [
    "base['Order Date'].max()"
   ]
  },
  {
   "cell_type": "markdown",
   "metadata": {
    "id": "sKfHfOysftAk"
   },
   "source": [
    "- Estamos falando de 4 anos de análise, começando em jan/2015 e indo até dez/2018"
   ]
  },
  {
   "cell_type": "markdown",
   "metadata": {
    "id": "6HZ8Lb_HftAk"
   },
   "source": [
    "# Venda por ano"
   ]
  },
  {
   "cell_type": "code",
   "execution_count": 17,
   "metadata": {
    "id": "lXfE5-M8ftAk"
   },
   "outputs": [],
   "source": [
    "# Criando uma coluna com o ano\n",
    "\n",
    "base['Year'] = base['Order Date'].dt.year"
   ]
  },
  {
   "cell_type": "code",
   "execution_count": 18,
   "metadata": {
    "id": "nBO2QK7eftAl"
   },
   "outputs": [
    {
     "data": {
      "text/html": [
       "<div>\n",
       "<style scoped>\n",
       "    .dataframe tbody tr th:only-of-type {\n",
       "        vertical-align: middle;\n",
       "    }\n",
       "\n",
       "    .dataframe tbody tr th {\n",
       "        vertical-align: top;\n",
       "    }\n",
       "\n",
       "    .dataframe thead th {\n",
       "        text-align: right;\n",
       "    }\n",
       "</style>\n",
       "<table border=\"1\" class=\"dataframe\">\n",
       "  <thead>\n",
       "    <tr style=\"text-align: right;\">\n",
       "      <th></th>\n",
       "      <th>Sales</th>\n",
       "    </tr>\n",
       "    <tr>\n",
       "      <th>Year</th>\n",
       "      <th></th>\n",
       "    </tr>\n",
       "  </thead>\n",
       "  <tbody>\n",
       "    <tr>\n",
       "      <th>2015</th>\n",
       "      <td>479856.2081</td>\n",
       "    </tr>\n",
       "    <tr>\n",
       "      <th>2016</th>\n",
       "      <td>459436.0054</td>\n",
       "    </tr>\n",
       "    <tr>\n",
       "      <th>2017</th>\n",
       "      <td>600192.5500</td>\n",
       "    </tr>\n",
       "    <tr>\n",
       "      <th>2018</th>\n",
       "      <td>722052.0192</td>\n",
       "    </tr>\n",
       "  </tbody>\n",
       "</table>\n",
       "</div>"
      ],
      "text/plain": [
       "            Sales\n",
       "Year             \n",
       "2015  479856.2081\n",
       "2016  459436.0054\n",
       "2017  600192.5500\n",
       "2018  722052.0192"
      ]
     },
     "execution_count": 18,
     "metadata": {},
     "output_type": "execute_result"
    }
   ],
   "source": [
    "# Usando essa coluna no group by e criando um plot de barras\n",
    "\n",
    "base_agrp = base.groupby('Year')['Sales'].sum().to_frame()\n",
    "base_agrp"
   ]
  },
  {
   "cell_type": "code",
   "execution_count": 19,
   "metadata": {},
   "outputs": [
    {
     "name": "stdout",
     "output_type": "stream",
     "text": [
      "<class 'pandas.core.frame.DataFrame'>\n",
      "Index: 4 entries, 2015 to 2018\n",
      "Data columns (total 1 columns):\n",
      " #   Column  Non-Null Count  Dtype  \n",
      "---  ------  --------------  -----  \n",
      " 0   Sales   4 non-null      float64\n",
      "dtypes: float64(1)\n",
      "memory usage: 48.0 bytes\n"
     ]
    }
   ],
   "source": [
    "base_agrp.info()"
   ]
  },
  {
   "cell_type": "code",
   "execution_count": 20,
   "metadata": {},
   "outputs": [
    {
     "data": {
      "text/plain": [
       "<Axes: xlabel='Year'>"
      ]
     },
     "execution_count": 20,
     "metadata": {},
     "output_type": "execute_result"
    },
    {
     "data": {
      "image/png": "[encoded data removed]",
      "text/plain": [
       "<Figure size 640x480 with 1 Axes>"
      ]
     },
     "metadata": {},
     "output_type": "display_data"
    }
   ],
   "source": [
    "base_agrp.plot()"
   ]
  },
  {
   "cell_type": "code",
   "execution_count": 21,
   "metadata": {
    "id": "ruwYbTHRftAl"
   },
   "outputs": [
    {
     "data": {
      "image/png": "[encoded data removed]",
      "text/plain": [
       "<Figure size 800x400 with 1 Axes>"
      ]
     },
     "metadata": {},
     "output_type": "display_data"
    }
   ],
   "source": [
    "fig = plt.figure(figsize = (8,4))\n",
    "axs =  fig.subplot_mosaic('A')\n",
    "\n",
    "barras = axs['A'].bar(base_agrp.index, base_agrp['Sales'], color = '#84ba5b', width = 0.65)\n",
    "\n",
    "axs['A'].set_title(\"Vendas por Ano \\n\",fontsize=16,fontweight='bold',color='#84ba5b')\n",
    "\n",
    "rotulos =  [f\"{venda:,.0f}\" for venda in base_agrp['Sales']]\n",
    "axs['A'].bar_label(barras, labels= rotulos, label_type='edge', padding= 5, fontweight = 'bold', color = '#84ba5b')\n",
    "\n",
    "\n",
    "# eixos \n",
    "\n",
    "anos = [2015,2016,2017,2018]\n",
    "\n",
    "axs['A'].xaxis.set_ticks(anos)\n",
    "axs['A'].set_xticklabels(labels = anos, fontweight = 'bold', fontsize = 10)\n",
    "axs['A'].tick_params(axis = 'x', length = 0)\n",
    "\n",
    "axs['A'].yaxis.set_visible(False)\n",
    "\n",
    "# barras \n",
    "\n",
    "for i in range(3):\n",
    "    barras[i].set_color('#84ba5b')\n",
    "    barras[i].set_alpha(0.4)\n",
    "\n",
    "axs['A'].grid(True, axis= 'y', color = 'Darkgray', alpha = 0.8)\n",
    "\n",
    "axs['A'].set_frame_on(False)\n",
    "\n",
    "\n",
    "plt.show()"
   ]
  },
  {
   "cell_type": "markdown",
   "metadata": {
    "id": "KgrAo2bCftAn"
   },
   "source": [
    "# Venda por mês"
   ]
  },
  {
   "cell_type": "markdown",
   "metadata": {
    "id": "Rpf40-gEftAn"
   },
   "source": [
    "#### Também podemos mostrar essa visão por meses\n",
    "- Para isso, podemos usar o **.month** da biblioteca datetime para criar uma nova coluna apenas com o mês dessa base"
   ]
  },
  {
   "cell_type": "code",
   "execution_count": 233,
   "metadata": {
    "id": "YNfR5695ftAn"
   },
   "outputs": [],
   "source": [
    "\n",
    "base['Month'] = base['Order Date'].dt.month\n",
    "# Usando essa coluna no group by e criando um plot de barras\n",
    "\n",
    "base_agrp_mes = base.groupby(['Year', 'Month'])['Sales'].sum().to_frame()"
   ]
  },
  {
   "cell_type": "code",
   "execution_count": 202,
   "metadata": {},
   "outputs": [
    {
     "data": {
      "text/plain": [
       "(2015, 1)"
      ]
     },
     "execution_count": 202,
     "metadata": {},
     "output_type": "execute_result"
    }
   ],
   "source": [
    "base_agrp_mes.index[0]"
   ]
  },
  {
   "cell_type": "markdown",
   "metadata": {
    "id": "gmW6lv12ftAo"
   },
   "source": [
    "**Com o <font color=\"blue\">.reset_index()</font> conseguimos transformar os índices em colunas e então aplicar todas as propriedades que conhecemos para o DataFrame**"
   ]
  },
  {
   "cell_type": "code",
   "execution_count": 235,
   "metadata": {},
   "outputs": [],
   "source": [
    "base_agrp_mes = base_agrp_mes.reset_index()"
   ]
  },
  {
   "cell_type": "code",
   "execution_count": 237,
   "metadata": {},
   "outputs": [
    {
     "data": {
      "text/html": [
       "<div>\n",
       "<style scoped>\n",
       "    .dataframe tbody tr th:only-of-type {\n",
       "        vertical-align: middle;\n",
       "    }\n",
       "\n",
       "    .dataframe tbody tr th {\n",
       "        vertical-align: top;\n",
       "    }\n",
       "\n",
       "    .dataframe thead th {\n",
       "        text-align: right;\n",
       "    }\n",
       "</style>\n",
       "<table border=\"1\" class=\"dataframe\">\n",
       "  <thead>\n",
       "    <tr style=\"text-align: right;\">\n",
       "      <th></th>\n",
       "      <th>Year</th>\n",
       "      <th>Month</th>\n",
       "      <th>Sales</th>\n",
       "    </tr>\n",
       "  </thead>\n",
       "  <tbody>\n",
       "    <tr>\n",
       "      <th>0</th>\n",
       "      <td>2015</td>\n",
       "      <td>1</td>\n",
       "      <td>14205.707</td>\n",
       "    </tr>\n",
       "    <tr>\n",
       "      <th>1</th>\n",
       "      <td>2015</td>\n",
       "      <td>2</td>\n",
       "      <td>4519.892</td>\n",
       "    </tr>\n",
       "    <tr>\n",
       "      <th>2</th>\n",
       "      <td>2015</td>\n",
       "      <td>3</td>\n",
       "      <td>55205.797</td>\n",
       "    </tr>\n",
       "    <tr>\n",
       "      <th>3</th>\n",
       "      <td>2015</td>\n",
       "      <td>4</td>\n",
       "      <td>27906.855</td>\n",
       "    </tr>\n",
       "    <tr>\n",
       "      <th>4</th>\n",
       "      <td>2015</td>\n",
       "      <td>5</td>\n",
       "      <td>23644.303</td>\n",
       "    </tr>\n",
       "  </tbody>\n",
       "</table>\n",
       "</div>"
      ],
      "text/plain": [
       "   Year  Month      Sales\n",
       "0  2015      1  14205.707\n",
       "1  2015      2   4519.892\n",
       "2  2015      3  55205.797\n",
       "3  2015      4  27906.855\n",
       "4  2015      5  23644.303"
      ]
     },
     "execution_count": 237,
     "metadata": {},
     "output_type": "execute_result"
    }
   ],
   "source": [
    "base_agrp_mes.head()"
   ]
  },
  {
   "cell_type": "code",
   "execution_count": 208,
   "metadata": {},
   "outputs": [
    {
     "data": {
      "text/plain": [
       "(48, 3)"
      ]
     },
     "execution_count": 208,
     "metadata": {},
     "output_type": "execute_result"
    }
   ],
   "source": [
    "base_agrp_mes.shape"
   ]
  },
  {
   "cell_type": "code",
   "execution_count": 210,
   "metadata": {},
   "outputs": [
    {
     "data": {
      "text/plain": [
       "array([ 1,  2,  3,  4,  5,  6,  7,  8,  9, 10, 11, 12])"
      ]
     },
     "execution_count": 210,
     "metadata": {},
     "output_type": "execute_result"
    }
   ],
   "source": [
    "base_agrp_mes['Month'].unique()"
   ]
  },
  {
   "cell_type": "code",
   "execution_count": 239,
   "metadata": {},
   "outputs": [
    {
     "name": "stdout",
     "output_type": "stream",
     "text": [
      "Jan\n",
      "Feb\n",
      "Mar\n",
      "Apr\n",
      "May\n",
      "Jun\n",
      "Jul\n",
      "Aug\n",
      "Sep\n",
      "Oct\n",
      "Nov\n",
      "Dec\n"
     ]
    }
   ],
   "source": [
    "import calendar\n",
    "\n",
    "for mes in base_agrp_mes['Month'].unique():\n",
    "    print(calendar.month_abbr[mes])"
   ]
  },
  {
   "cell_type": "code",
   "execution_count": 241,
   "metadata": {},
   "outputs": [],
   "source": [
    "for mes in base_agrp_mes['Month']:\n",
    "    nome_mes = calendar.month_abbr[mes]\n",
    "    base_agrp_mes['Month'] = base_agrp_mes['Month'].replace(mes, nome_mes)"
   ]
  },
  {
   "cell_type": "code",
   "execution_count": 243,
   "metadata": {},
   "outputs": [
    {
     "data": {
      "text/html": [
       "<div>\n",
       "<style scoped>\n",
       "    .dataframe tbody tr th:only-of-type {\n",
       "        vertical-align: middle;\n",
       "    }\n",
       "\n",
       "    .dataframe tbody tr th {\n",
       "        vertical-align: top;\n",
       "    }\n",
       "\n",
       "    .dataframe thead th {\n",
       "        text-align: right;\n",
       "    }\n",
       "</style>\n",
       "<table border=\"1\" class=\"dataframe\">\n",
       "  <thead>\n",
       "    <tr style=\"text-align: right;\">\n",
       "      <th></th>\n",
       "      <th>Year</th>\n",
       "      <th>Month</th>\n",
       "      <th>Sales</th>\n",
       "    </tr>\n",
       "  </thead>\n",
       "  <tbody>\n",
       "    <tr>\n",
       "      <th>43</th>\n",
       "      <td>2018</td>\n",
       "      <td>Aug</td>\n",
       "      <td>62837.8480</td>\n",
       "    </tr>\n",
       "    <tr>\n",
       "      <th>44</th>\n",
       "      <td>2018</td>\n",
       "      <td>Sep</td>\n",
       "      <td>86152.8880</td>\n",
       "    </tr>\n",
       "    <tr>\n",
       "      <th>45</th>\n",
       "      <td>2018</td>\n",
       "      <td>Oct</td>\n",
       "      <td>77448.1312</td>\n",
       "    </tr>\n",
       "    <tr>\n",
       "      <th>46</th>\n",
       "      <td>2018</td>\n",
       "      <td>Nov</td>\n",
       "      <td>117938.1550</td>\n",
       "    </tr>\n",
       "    <tr>\n",
       "      <th>47</th>\n",
       "      <td>2018</td>\n",
       "      <td>Dec</td>\n",
       "      <td>83030.3888</td>\n",
       "    </tr>\n",
       "  </tbody>\n",
       "</table>\n",
       "</div>"
      ],
      "text/plain": [
       "    Year Month        Sales\n",
       "43  2018   Aug   62837.8480\n",
       "44  2018   Sep   86152.8880\n",
       "45  2018   Oct   77448.1312\n",
       "46  2018   Nov  117938.1550\n",
       "47  2018   Dec   83030.3888"
      ]
     },
     "execution_count": 243,
     "metadata": {},
     "output_type": "execute_result"
    }
   ],
   "source": [
    "base_agrp_mes.tail()"
   ]
  },
  {
   "cell_type": "code",
   "execution_count": 192,
   "metadata": {},
   "outputs": [
    {
     "data": {
      "text/plain": [
       "array(['Dec'], dtype=object)"
      ]
     },
     "execution_count": 192,
     "metadata": {},
     "output_type": "execute_result"
    }
   ],
   "source": [
    "base_agrp_mes['Month'].unique()"
   ]
  },
  {
   "cell_type": "markdown",
   "metadata": {},
   "source": [
    "base"
   ]
  },
  {
   "cell_type": "code",
   "execution_count": null,
   "metadata": {
    "id": "X9a_Is0pftAo"
   },
   "outputs": [],
   "source": [
    "# Visualizando a base novamente"
   ]
  },
  {
   "cell_type": "markdown",
   "metadata": {
    "id": "P8kEycBSftAo"
   },
   "source": [
    "**Vamos usar o gráfico que fizemos na aula anterior para ir criando esse gráfico**"
   ]
  },
  {
   "cell_type": "code",
   "execution_count": null,
   "metadata": {
    "id": "W0dZuIH0ftAo"
   },
   "outputs": [],
   "source": [
    "# Criando o gráfico de mês com o matplotlib\n",
    "fig,ax = plt.subplots(\n",
    "            figsize = (9,4) # Tamanho da figura\n",
    "        )\n",
    "\n",
    "ax.bar(soma_ano.index,soma_ano.values,\n",
    "       color=\"#84ba5b\" # Cor das barras\n",
    "      )\n",
    "\n",
    "plt.show()"
   ]
  },
  {
   "cell_type": "markdown",
   "metadata": {
    "id": "ZDkwFGMBftAo"
   },
   "source": [
    "**Agora vamos adicionar a barra do ano de 2016**\n",
    "- Vamos adicionar um gráfico de barras com os dados de 2016"
   ]
  },
  {
   "cell_type": "code",
   "execution_count": null,
   "metadata": {
    "id": "ZqxXWMo7ftAo"
   },
   "outputs": [],
   "source": [
    "fig,ax = plt.subplots(\n",
    "            figsize = (9,4) # Tamanho da figura\n",
    "        )\n",
    "\n",
    "ax.bar(soma_mes[soma_mes.Ano == 2015].Mes.values,soma_mes[soma_mes.Ano == 2015].Sales.values,\n",
    "       color=\"#00c698\", # Cor das barras\n",
    "       label=2015 # Label dos dados\n",
    "      )\n",
    "\n",
    "plt.show()"
   ]
  },
  {
   "cell_type": "markdown",
   "metadata": {
    "id": "B-rjJ-5qftAo"
   },
   "source": [
    "**E então, deslocar as barras**\n",
    "- Para isso, vamos usar o mesmo raciocínio do width que usamos na aula anterior\n",
    "    - Para diferenciar os dados, também podemos usar o `label` para informar qual é cada um dos gráficos"
   ]
  },
  {
   "cell_type": "code",
   "execution_count": null,
   "metadata": {
    "id": "JHD3WXsdftAo"
   },
   "outputs": [],
   "source": [
    "fig,ax = plt.subplots(\n",
    "            figsize = (9,4) # Tamanho da figura\n",
    "        )\n",
    "\n",
    "ax.bar(soma_mes[soma_mes.Ano == 2015].Mes.values,\n",
    "       soma_mes[soma_mes.Ano == 2015].Sales.values,\n",
    "       color=\"#00c698\"\n",
    "      )\n",
    "ax.bar(soma_mes[soma_mes.Ano == 2016].Mes.values, \n",
    "       soma_mes[soma_mes.Ano == 2016].Sales.values,\n",
    "       color=\"#00a9b5\"\n",
    "      )\n",
    "\n",
    "plt.show()"
   ]
  },
  {
   "cell_type": "markdown",
   "metadata": {
    "id": "QTXV7Y9-ftAp"
   },
   "source": [
    "**Podemos agora adicionar todas as barras**"
   ]
  },
  {
   "cell_type": "code",
   "execution_count": null,
   "metadata": {
    "id": "3VMNDqAzftAp"
   },
   "outputs": [],
   "source": [
    "fig,ax = plt.subplots(\n",
    "            figsize = (9,4) # Tamanho da figura\n",
    "        )\n",
    "\n",
    "### VAMOS AJUSTAR ESSA PARTE DO CÓDIGO ADICIONANDO AS PARTES DO TAMANHO DAS BARRAS\n",
    "wid = 0.3\n",
    "\n",
    "ax.bar(soma_mes[soma_mes.Ano == 2015].Mes.values-wid/2, # <- DESLOCANDO A BARRA PARA A ESQUERDA\n",
    "       soma_mes[soma_mes.Ano == 2015].Sales.values,\n",
    "       color=\"#00c698\", # Cor das barras\n",
    "       label=2015, # Label dos dados\n",
    "       width=wid # Largura das barras\n",
    "      )\n",
    "ax.bar(soma_mes[soma_mes.Ano == 2016].Mes.values+wid/2, # <- DESLOCANDO A BARRA PARA A DIREITA\n",
    "       soma_mes[soma_mes.Ano == 2016].Sales.values,\n",
    "       color=\"#00a9b5\", \n",
    "       label=2016,\n",
    "       width=wid \n",
    "      )\n",
    "\n",
    "ax.legend()\n",
    "\n",
    "plt.show()"
   ]
  },
  {
   "cell_type": "markdown",
   "metadata": {
    "id": "6cKwBxD2ftAp"
   },
   "source": [
    "**E vamos colocar rótulo apenas em 2018 para não poluir muito o gráfico**"
   ]
  },
  {
   "cell_type": "code",
   "execution_count": null,
   "metadata": {
    "id": "_j88E-efftAp"
   },
   "outputs": [],
   "source": [
    "fig,ax = plt.subplots(\n",
    "            figsize = (16,4) # Tamanho da figura\n",
    "        )\n",
    "\n",
    "wid = 0.2 # Tamanho das barras\n",
    "\n",
    "ax.bar(soma_mes[soma_mes.Ano == 2015].Mes.values-wid-wid/2, # Ajuste da posição das barras\n",
    "       soma_mes[soma_mes.Ano == 2015].Sales.values,\n",
    "       color=\"#00c698\", # Cor das barras\n",
    "       label=2015, # Label dos dados\n",
    "       width=wid # Largura das barras\n",
    "      )\n",
    "ax.bar(soma_mes[soma_mes.Ano == 2016].Mes.values-wid/2, # Ajuste da posição das barras\n",
    "       soma_mes[soma_mes.Ano == 2016].Sales.values,\n",
    "       color=\"#00a9b5\", \n",
    "       label=2016,\n",
    "       width=wid \n",
    "      )\n",
    "\n",
    "# Adicionando o restante das barras\n",
    "ax.bar(soma_mes[soma_mes.Ano == 2017].Mes.values+wid/2, # Ajuste da posição das barras\n",
    "       soma_mes[soma_mes.Ano == 2017].Sales.values,\n",
    "       color=\"#008ac5\", \n",
    "       label=2017,\n",
    "       width=wid \n",
    "      )\n",
    "ax.bar(soma_mes[soma_mes.Ano == 2018].Mes.values+wid+wid/2, # Ajuste da posição das barras\n",
    "       soma_mes[soma_mes.Ano == 2018].Sales.values,\n",
    "       color=\"#0069c0\", \n",
    "       label=2018,\n",
    "       width=wid \n",
    "      )\n",
    "ax.legend()\n",
    "    \n",
    "plt.show()"
   ]
  },
  {
   "cell_type": "markdown",
   "metadata": {
    "id": "7N3wUWI1ftAp"
   },
   "source": [
    "**Melhorando o visual retirando as bordas e ajustando o texto do eixo x**"
   ]
  },
  {
   "cell_type": "code",
   "execution_count": null,
   "metadata": {
    "id": "B7zEMaTkftAp"
   },
   "outputs": [],
   "source": [
    "fig,ax = plt.subplots(\n",
    "            figsize = (16,4) # Tamanho da figura\n",
    "        )\n",
    "\n",
    "wid = 0.2 # Tamanho das barras\n",
    "\n",
    "ax.bar(soma_mes[soma_mes.Ano == 2015].Mes.values-wid-wid/2, # Ajuste da posição das barras\n",
    "       soma_mes[soma_mes.Ano == 2015].Sales.values,\n",
    "       color=\"#00c698\", # Cor das barras\n",
    "       label=2015, # Label dos dados\n",
    "       width=wid # Largura das barras\n",
    "      )\n",
    "ax.bar(soma_mes[soma_mes.Ano == 2016].Mes.values-wid/2, \n",
    "       soma_mes[soma_mes.Ano == 2016].Sales.values,\n",
    "       color=\"#00a9b5\", \n",
    "       label=2016,\n",
    "       width=wid \n",
    "      )\n",
    "\n",
    "# Adicionando o restante das barras\n",
    "ax.bar(soma_mes[soma_mes.Ano == 2017].Mes.values+wid/2, \n",
    "       soma_mes[soma_mes.Ano == 2017].Sales.values,\n",
    "       color=\"#008ac5\", \n",
    "       label=2017,\n",
    "       width=wid \n",
    "      )\n",
    "ax.bar(soma_mes[soma_mes.Ano == 2018].Mes.values+wid+wid/2, \n",
    "       soma_mes[soma_mes.Ano == 2018].Sales.values,\n",
    "       color=\"#0069c0\", \n",
    "       label=2018,\n",
    "       width=wid \n",
    "      )\n",
    "ax.legend()\n",
    "\n",
    "# Adicionando o rótulo dos dados para 2018\n",
    "for i in np.arange(0,12):\n",
    "    ax.annotate('{:,.0f}k'.format(soma_mes[soma_mes.Ano == 2018].Sales.values[i]/1000), # Valores que vão ser mostrados como rótulos, já formatados\n",
    "                (soma_mes[soma_mes.Ano == 2018].Mes.values[i]+wid+wid/2,soma_mes[soma_mes.Ano == 2018].Sales.values[i]), # Posição (x,y que esses valores vão estar)\n",
    "                ha=\"center\",  # Alinhamento horizontal do texto\n",
    "                va=\"top\", # Alinhamento vertical do texto\n",
    "                xytext=(5,12), # Deslocamento em relação ao ponto que o texto estaria\n",
    "                textcoords=\"offset points\",  # Sistema de coordenadas que o xytext vai ter como referência (nesse caso será em pontos, não em pixels)\n",
    "                fontsize=10, # Tamanho da fonte dos rótulos\n",
    "                fontweight='bold', # Espessura da fonte dos rótulos\n",
    "                color=\"#0069c0\" # Cor dos rótulos\n",
    "            )\n",
    "    \n",
    "plt.show()"
   ]
  },
  {
   "cell_type": "markdown",
   "metadata": {
    "id": "1SXN3AAlftAq"
   },
   "source": [
    "**Como resultado final, teremos o gráfico abaixo**"
   ]
  },
  {
   "cell_type": "code",
   "execution_count": null,
   "metadata": {
    "id": "55XHk5JeftAq"
   },
   "outputs": [],
   "source": [
    "fig,ax = plt.subplots(\n",
    "            figsize = (16,4) # Tamanho da figura\n",
    "        )\n",
    "\n",
    "wid = 0.2 # Tamanho das barras\n",
    "\n",
    "ax.bar(soma_mes[soma_mes.Ano == 2015].Mes.values-wid-wid/2, # Ajuste da posição das barras\n",
    "       soma_mes[soma_mes.Ano == 2015].Sales.values,\n",
    "       color=\"#00c698\", # Cor das barras\n",
    "       label=2015, # Label dos dados\n",
    "       width=wid # Largura das barras\n",
    "      )\n",
    "ax.bar(soma_mes[soma_mes.Ano == 2016].Mes.values-wid/2, \n",
    "       soma_mes[soma_mes.Ano == 2016].Sales.values,\n",
    "       color=\"#00a9b5\", \n",
    "       label=2016,\n",
    "       width=wid \n",
    "      )\n",
    "\n",
    "# Adicionando o restante das barras\n",
    "ax.bar(soma_mes[soma_mes.Ano == 2017].Mes.values+wid/2, \n",
    "       soma_mes[soma_mes.Ano == 2017].Sales.values,\n",
    "       color=\"#008ac5\", \n",
    "       label=2017,\n",
    "       width=wid \n",
    "      )\n",
    "ax.bar(soma_mes[soma_mes.Ano == 2018].Mes.values+wid+wid/2, \n",
    "       soma_mes[soma_mes.Ano == 2018].Sales.values,\n",
    "       color=\"#0069c0\", \n",
    "       label=2018,\n",
    "       width=wid \n",
    "      )\n",
    "ax.legend()\n",
    "\n",
    "# Adicionando o rótulo dos dados para 2018\n",
    "for i in np.arange(0,12):\n",
    "    ax.annotate('{:,.0f}k'.format(soma_mes[soma_mes.Ano == 2018].Sales.values[i]/1000), # Valores que vão ser mostrados como rótulos, já formatados\n",
    "                (soma_mes[soma_mes.Ano == 2018].Mes.values[i]+wid+wid/2,soma_mes[soma_mes.Ano == 2018].Sales.values[i]), # Posição (x,y que esses valores vão estar)\n",
    "                ha=\"center\",  # Alinhamento horizontal do texto\n",
    "                va=\"top\", # Alinhamento vertical do texto\n",
    "                xytext=(5,12), # Deslocamento em relação ao ponto que o texto estaria\n",
    "                textcoords=\"offset points\",  # Sistema de coordenadas que o xytext vai ter como referência (nesse caso será em pontos, não em pixels)\n",
    "                fontsize=10, # Tamanho da fonte dos rótulos\n",
    "                fontweight='bold', # Espessura da fonte dos rótulos\n",
    "                color=\"#0069c0\" # Cor dos rótulos\n",
    "            )\n",
    "    \n",
    "ax.yaxis.set_visible(False) # Retirando os valores do eixo y\n",
    "\n",
    "ax.spines['top'].set_visible(False) # Retirando os traços do gráfico\n",
    "ax.spines['left'].set_visible(False)\n",
    "ax.spines['right'].set_visible(False)\n",
    "\n",
    "ax.xaxis.set_ticks(np.arange(1,13)) # Ajustando os valores de x\n",
    "ax.set_xticklabels(['Jan','Fev','Mar','Abr','Mai','Jun','Jul','Ago','Set','Out','Nov','Dez'])\n",
    "ax.tick_params(axis='x',labelsize=14) # Melhorando o visual do eixo x\n",
    "    \n",
    "plt.show()"
   ]
  },
  {
   "cell_type": "markdown",
   "metadata": {
    "id": "Kgf55HdfftAq"
   },
   "source": [
    "### 4. <font color=\"blue\"> Qual foi a categoria mais vendida? </font>\n",
    "Precisamos primeiro entender a informação de categoria"
   ]
  },
  {
   "cell_type": "code",
   "execution_count": null,
   "metadata": {
    "id": "OGsXMYnbftAq"
   },
   "outputs": [],
   "source": [
    "# Podemos fazer um groupby da categoria"
   ]
  },
  {
   "cell_type": "markdown",
   "metadata": {
    "id": "xFEIuELsftAq"
   },
   "source": [
    "**Como estamos falando de 4 anos diferentes, seria interessante entender como foram essas categorias em cada um dos anos**"
   ]
  },
  {
   "cell_type": "code",
   "execution_count": null,
   "metadata": {
    "id": "DLh2NnfqftAq"
   },
   "outputs": [],
   "source": [
    "# Agrupando por ano e categoria"
   ]
  },
  {
   "cell_type": "markdown",
   "metadata": {
    "id": "NaDEh5XiftAq"
   },
   "source": [
    "**Uma forma de visualizar melhor essas informações é fazer um gráfico de barras com esses dados, bem semelhante ao que fizemos acima**"
   ]
  },
  {
   "cell_type": "code",
   "execution_count": null,
   "metadata": {
    "id": "6p4fK1f1ftAq"
   },
   "outputs": [],
   "source": [
    "# Criando agora a base de categorias como fizemos anteriormente"
   ]
  },
  {
   "cell_type": "code",
   "execution_count": null,
   "metadata": {
    "id": "T6TDDHpnftAq"
   },
   "outputs": [],
   "source": [
    "# Visualizando "
   ]
  },
  {
   "cell_type": "markdown",
   "metadata": {
    "id": "A7XYJrXWftAq"
   },
   "source": [
    "**Utilizando a mesma lógica do gráfico anterior**"
   ]
  },
  {
   "cell_type": "code",
   "execution_count": null,
   "metadata": {
    "id": "HGrRQqx3ftAq"
   },
   "outputs": [],
   "source": [
    "# Vamos utilizar o mesmo código do gráfico anterior para exibir por categorias"
   ]
  },
  {
   "cell_type": "markdown",
   "metadata": {
    "id": "7AQDSHlMftAr"
   },
   "source": [
    "**Como resultado final, teremos o gráfico abaixo**"
   ]
  },
  {
   "cell_type": "code",
   "execution_count": null,
   "metadata": {
    "id": "QjEZhh4PftAr"
   },
   "outputs": [],
   "source": [
    "fig,ax = plt.subplots(\n",
    "            figsize = (16,4)\n",
    "        )\n",
    "\n",
    "wid = 0.2 \n",
    "\n",
    "ax.bar(categoria[categoria.Category == 'Furniture'].Ano.values-wid, # Como temos 3 colunas, vamos deslocar a largura da coluna inteira\n",
    "       categoria[categoria.Category == 'Furniture'].Sales.values,\n",
    "       color=\"#00c698\", \n",
    "       label='Furniture', # As legendas agora serão as categorias\n",
    "       width=wid\n",
    "      )\n",
    "\n",
    "ax.bar(categoria[categoria.Category == 'Office Supplies'].Ano.values, \n",
    "       categoria[categoria.Category == 'Office Supplies'].Sales.values,\n",
    "       color=\"#00a9b5\", \n",
    "       label='Office Supplies', \n",
    "       width=wid\n",
    "      )\n",
    "\n",
    "ax.bar(categoria[categoria.Category == 'Technology'].Ano.values+wid, \n",
    "       categoria[categoria.Category == 'Technology'].Sales.values,\n",
    "       color=\"#008ac5\", \n",
    "       label='Technology', \n",
    "       width=wid\n",
    "      )\n",
    "\n",
    "ax.legend()\n",
    "\n",
    "for i in np.arange(0,4):\n",
    "    ax.annotate('{:,.0f}k'.format(categoria[categoria.Category == 'Furniture'].Sales.values[i]/1000), \n",
    "                (categoria[categoria.Category == 'Furniture'].Ano.values[i]-wid,categoria[categoria.Category == 'Furniture'].Sales.values[i]), \n",
    "                ha=\"center\", va=\"top\", xytext=(0,15), textcoords=\"offset points\", \n",
    "                fontsize=12, fontweight='bold', color=\"#00c698\")\n",
    "    ax.annotate('{:,.0f}k'.format(categoria[categoria.Category == 'Office Supplies'].Sales.values[i]/1000), \n",
    "                (categoria[categoria.Category == 'Office Supplies'].Ano.values[i],categoria[categoria.Category == 'Office Supplies'].Sales.values[i]), \n",
    "                ha=\"center\", va=\"top\", xytext=(0,15), textcoords=\"offset points\", \n",
    "                fontsize=12, fontweight='bold', color=\"#00a9b5\")\n",
    "    ax.annotate('{:,.0f}k'.format(categoria[categoria.Category == 'Technology'].Sales.values[i]/1000), \n",
    "                (categoria[categoria.Category == 'Technology'].Ano.values[i]+wid,categoria[categoria.Category == 'Technology'].Sales.values[i]), \n",
    "                ha=\"center\", va=\"top\", xytext=(0,15), textcoords=\"offset points\", \n",
    "                fontsize=12, fontweight='bold', color=\"#008ac5\")   \n",
    "    \n",
    "ax.set_yticks(np.array([0,350000]))\n",
    "ax.yaxis.set_visible(False) \n",
    "\n",
    "ax.spines['top'].set_visible(False) \n",
    "ax.spines['left'].set_visible(False)\n",
    "ax.spines['right'].set_visible(False)\n",
    "\n",
    "ax.xaxis.set_ticks(np.arange(2015,2019)) \n",
    "ax.tick_params(axis='x',labelsize=12) \n",
    "\n",
    "plt.show()"
   ]
  },
  {
   "cell_type": "markdown",
   "metadata": {
    "id": "SgVihUYrftAr"
   },
   "source": [
    "### 4. <font color=\"blue\"> Qual o item mais vendido? </font>\n",
    "Vamos seguir exatamente a mesma lógica da categoria"
   ]
  },
  {
   "cell_type": "markdown",
   "metadata": {
    "id": "kclEajQPftAr"
   },
   "source": [
    "**Podemos fazer a tabela considerando esses top itens**\n",
    "- Para pegar uma base, podemos usar o `.head()` que já conhecemos\n",
    "- Podemos também usar o `.sort_values()` para definirmos se a base será crescente ou descrescente"
   ]
  },
  {
   "cell_type": "code",
   "execution_count": null,
   "metadata": {
    "id": "T1d1I1_1ftAr"
   },
   "outputs": [],
   "source": [
    "# Podemos fazer um groupby do item"
   ]
  },
  {
   "cell_type": "markdown",
   "metadata": {
    "id": "9odq1t81ftAr"
   },
   "source": [
    "**Uma forma de resolver a quantidade de ítens seria fazer apenas para os top 10 ítens**"
   ]
  },
  {
   "cell_type": "code",
   "execution_count": null,
   "metadata": {
    "id": "y4ZH4S01ftAr"
   },
   "outputs": [],
   "source": [
    "# Os top 10 itens são"
   ]
  },
  {
   "cell_type": "code",
   "execution_count": null,
   "metadata": {
    "id": "k4wf6jllftAr"
   },
   "outputs": [],
   "source": [
    "# Definindo o top n itens"
   ]
  },
  {
   "cell_type": "markdown",
   "metadata": {
    "id": "F-elAmw0ftAr"
   },
   "source": [
    "**Vamos traçar um gráfico de barras horizontais para mostrar o top 10 itens**\n",
    "- https://matplotlib.org/stable/gallery/lines_bars_and_markers/barh.html#sphx-glr-gallery-lines-bars-and-markers-barh-py\n",
    "- Podemos usar o `ax.invert_yaxis()` para inverter o eixo y"
   ]
  },
  {
   "cell_type": "markdown",
   "metadata": {
    "id": "lLdYYMRUftAr"
   },
   "source": [
    "**Agora agrupando por ítem e ano**"
   ]
  },
  {
   "cell_type": "code",
   "execution_count": null,
   "metadata": {
    "id": "zpIvfP2RftAr"
   },
   "outputs": [],
   "source": [
    "# Podemos fazer um groupby de item e ano"
   ]
  },
  {
   "cell_type": "code",
   "execution_count": null,
   "metadata": {
    "id": "Zzl0XBLJftAr"
   },
   "outputs": [],
   "source": [
    "# Para visualizar algum item dos top itens\n",
    "itens_ano[itens_ano[\"Product Name\"] == top_itens[0]]"
   ]
  },
  {
   "cell_type": "markdown",
   "metadata": {
    "id": "9QxqQ4WlftAr"
   },
   "source": [
    "**Como vamos criar esse gráfico? Como saber quais itens não aparecem em todos os anos?**"
   ]
  },
  {
   "cell_type": "markdown",
   "metadata": {
    "id": "GMLkS0oCftAs"
   },
   "source": [
    "### Juntando bases no pandas"
   ]
  },
  {
   "cell_type": "markdown",
   "metadata": {
    "id": "e8weu5UvftAs"
   },
   "source": [
    "**O <font color='blue'>.merge()</font> irá juntar duas bases**\n",
    "- Para isso, devemos passar:\n",
    "    - base 1\n",
    "    - base 2\n",
    "    - how: forma que iremos fazer essa junção das bases\n",
    "        - inner: o que tiver em comum entre as 2 bases (base 1 E base 2)\n",
    "        - outer: tudo o que tiver nas 2 bases (base 1 OU base 2)\n",
    "        - left: tudo o que tem na PRIMEIRA base, juntando com o que tiver na segunda\n",
    "        - right: tudo o que tem na SEGUNDA base, juntando com o que tiver na primeira\n",
    "    - on: colunar que vamos usar para fazer a junção da base"
   ]
  },
  {
   "cell_type": "code",
   "execution_count": null,
   "metadata": {
    "id": "z9lZe_vRftAs"
   },
   "outputs": [],
   "source": [
    "# Criando 2 dataframes\n",
    "dic1 = {\n",
    "    \"nomes\": ['Nome1','Nome2','Nome3'],\n",
    "    \"valores\": [1,2,3]\n",
    "}\n",
    "\n",
    "base_dic1 = pd.DataFrame(dic1)\n",
    "\n",
    "dic2 = {\n",
    "    \"nomes\": ['Nome1','Nome2','Nome4'],\n",
    "    \"valores\": [9,8,7]\n",
    "}\n",
    "\n",
    "base_dic2 = pd.DataFrame(dic2)"
   ]
  },
  {
   "cell_type": "code",
   "execution_count": null,
   "metadata": {
    "id": "wJ5zWWA7ftAs"
   },
   "outputs": [],
   "source": [
    "base_merge = pd.merge(\n",
    "    base_dic1, # <- primeira base\n",
    "    base_dic2, # <- segunda base\n",
    "    how='outer', # <- tipo de junção que vamos fazer\n",
    "    on=\"nomes\" # <- coluna que vamos usar para fazer essa junção das bases\n",
    ") \n",
    "\n",
    "display(base_merge)"
   ]
  },
  {
   "cell_type": "code",
   "execution_count": null,
   "metadata": {
    "id": "l6p0BaZkftAs"
   },
   "outputs": [],
   "source": [
    "# Temos a nossa base de top itens\n",
    "top_n_itens"
   ]
  },
  {
   "cell_type": "markdown",
   "metadata": {
    "id": "mwA_xrxGftAs"
   },
   "source": [
    "**Como podemos cruzar a base com todos os anos de 2015 a 2018?**\n",
    "- Basta transformar as datas em um DataFrame e usar o merge para fazer essa união"
   ]
  },
  {
   "cell_type": "code",
   "execution_count": null,
   "metadata": {
    "id": "dTtAks3WftAs"
   },
   "outputs": [],
   "source": [
    "df_datas = pd.DataFrame([2018,2017,2016,2015])\n",
    "df_datas.columns = ['Ano']\n",
    "df_datas"
   ]
  },
  {
   "cell_type": "markdown",
   "metadata": {
    "id": "3aqOQjrCftAs"
   },
   "source": [
    "**Só que pra conseguir unir as bases, precisamos ter uma coluna em comum entre elas**\n",
    "- Então podemos, nas duas bases, criar uma coluna chamada `uniao` (ou qualquer outro nome) com o mesmo valor"
   ]
  },
  {
   "cell_type": "code",
   "execution_count": null,
   "metadata": {
    "id": "3sXLsxzrftAs"
   },
   "outputs": [],
   "source": [
    "top_n_itens['uniao'] = 'unir'\n",
    "df_datas['uniao'] = 'unir'"
   ]
  },
  {
   "cell_type": "markdown",
   "metadata": {
    "id": "w0XIbwWiftAs"
   },
   "source": [
    "**Agora que temos uma coluna que conseguimos relacionar, podemos fazer o merge das bases**"
   ]
  },
  {
   "cell_type": "code",
   "execution_count": null,
   "metadata": {
    "id": "Bui7opcHftAs"
   },
   "outputs": [],
   "source": [
    "produto_ano = pd.merge(\n",
    "    top_n_itens, # <- primeira base\n",
    "    df_datas, # <- segunda base\n",
    "    how='outer', # <- tipo de junção que vamos fazer\n",
    "    on=\"uniao\" # <- coluna que vamos usar para fazer essa junção das bases\n",
    ") \n",
    "\n",
    "produto_ano.head()"
   ]
  },
  {
   "cell_type": "markdown",
   "metadata": {
    "id": "yMJYtWDdftAs"
   },
   "source": [
    "#### Agora podemos voltar para a base itens_ano e fazer a junção com essa base acima"
   ]
  },
  {
   "cell_type": "code",
   "execution_count": null,
   "metadata": {
    "id": "nLHkBE0pftAs"
   },
   "outputs": [],
   "source": [
    "display(itens_ano)"
   ]
  },
  {
   "cell_type": "code",
   "execution_count": null,
   "metadata": {
    "id": "EuKlFTtgftAs"
   },
   "outputs": [],
   "source": [
    "itens_ano_grafico = pd.merge(\n",
    "    produto_ano,\n",
    "    itens_ano,\n",
    "    how='left',\n",
    "    on=['Product Name','Ano']\n",
    ")\n",
    "        \n",
    "itens_ano_grafico.head()"
   ]
  },
  {
   "cell_type": "markdown",
   "metadata": {
    "id": "w3CDyi0jftAt"
   },
   "source": [
    "**Agora podemos usar esses dados para traçar o gráfico**"
   ]
  },
  {
   "cell_type": "code",
   "execution_count": null,
   "metadata": {
    "id": "DmETg-EnftAt"
   },
   "outputs": [],
   "source": [
    "# Vamos criar o gráfico baseado nesse DataFrame que acabamos de criar"
   ]
  },
  {
   "cell_type": "markdown",
   "metadata": {
    "id": "Q-tyOIXgftAt"
   },
   "source": [
    "**Como resultado final, teremos o gráfico abaixo**"
   ]
  },
  {
   "cell_type": "code",
   "execution_count": null,
   "metadata": {
    "id": "JQifStIPftAu"
   },
   "outputs": [],
   "source": [
    "# Vamos criar o gráfico baseado nesse DataFrame que acabamos de criar\n",
    "fig,ax = plt.subplots(\n",
    "            figsize = (16,12)\n",
    "        )\n",
    "\n",
    "hgt = 0.2\n",
    "\n",
    "qtd_itens = len(top_n_itens)\n",
    "\n",
    "ax.barh(np.arange(0,qtd_itens)-hgt-hgt/2, #Valores de y\n",
    "        itens_ano_grafico[itens_ano_grafico.Ano == 2018].Sales_y.values, # Valores de x \n",
    "        align='center',\n",
    "        height=hgt, # Comprimento do gráfico\n",
    "        label=2018,\n",
    "        color=\"#0069c0\"\n",
    "       )\n",
    "ax.barh(np.arange(0,qtd_itens)-hgt/2, #Valores de y\n",
    "        itens_ano_grafico[itens_ano_grafico.Ano == 2017].Sales_y.values, # Valores de x \n",
    "        align='center',height=hgt,label=2017,color=\"#008ac5\")\n",
    "ax.barh(np.arange(0,qtd_itens)+hgt/2, #Valores de y\n",
    "        itens_ano_grafico[itens_ano_grafico.Ano == 2016].Sales_y.values, # Valores de x \n",
    "        align='center',height=hgt,label=2016,color=\"#00a9b5\")\n",
    "ax.barh(np.arange(0,qtd_itens)+hgt+hgt/2, #Valores de y\n",
    "        itens_ano_grafico[itens_ano_grafico.Ano == 2015].Sales_y.values, # Valores de x \n",
    "        align='center',height=hgt,label=2015,color=\"#00c698\")\n",
    "\n",
    "ax.invert_yaxis() # Inverter o eixo y (deixando o gráfico do maior para o menor)\n",
    "ax.legend()\n",
    "\n",
    "for i in np.arange(0,qtd_itens):\n",
    "    ax.annotate('{:,.1f}k'.format(itens_ano_grafico[itens_ano_grafico.Ano == 2018].Sales_y.values[i]/1000), \n",
    "                (itens_ano_grafico[itens_ano_grafico.Ano == 2018].Sales_y.values[i],i-hgt-hgt/2), \n",
    "                ha=\"center\", va=\"top\", xytext=(20,6), textcoords=\"offset points\", \n",
    "                fontsize=12, fontweight='bold', color=\"#0069c0\")\n",
    "    \n",
    "ax.yaxis.set_ticks(np.arange(0,qtd_itens)) # Ajustando os valores de x\n",
    "ax.set_yticklabels(top_n_itens[\"Product Name\"]) # Colocando rótulo no meu eixo\n",
    "ax.tick_params(axis='y',labelsize=10) # Melhorando o visual do eixo x\n",
    "\n",
    "ax.xaxis.set_visible(False) \n",
    "\n",
    "ax.spines['top'].set_visible(False) \n",
    "ax.spines['right'].set_visible(False)\n",
    "ax.spines['bottom'].set_visible(False)\n",
    "\n",
    "plt.show()"
   ]
  },
  {
   "cell_type": "markdown",
   "metadata": {
    "id": "3flbvcnlftAu"
   },
   "source": [
    "# Resumindo as perguntas"
   ]
  },
  {
   "cell_type": "code",
   "execution_count": null,
   "metadata": {
    "id": "H-2tkxjaftAu"
   },
   "outputs": [],
   "source": [
    "ax.set_title(\"VENDAS POR ANO\", # Título do gráfico\n",
    "             fontsize=20, # Tamanho da fonte\n",
    "             fontweight='bold', # Espessura da fonte\n",
    "             color='#00b247' # Cor da fonte\n",
    "            )"
   ]
  },
  {
   "cell_type": "code",
   "execution_count": null,
   "metadata": {
    "id": "gwDRiTKAftAv"
   },
   "outputs": [],
   "source": [
    "ax.set_title(\"VENDAS POR MÊS\", # Título do gráfico\n",
    "             fontsize=20, # Tamanho da fonte\n",
    "             fontweight='bold', # Espessura da fonte\n",
    "             color='#00b247' # Cor da fonte\n",
    "            )"
   ]
  },
  {
   "cell_type": "code",
   "execution_count": null,
   "metadata": {
    "id": "gibmdHOKftAv"
   },
   "outputs": [],
   "source": [
    "ax.set_title(\"VENDAS POR CATEGORIA\", # Título do gráfico\n",
    "             fontsize=20, # Tamanho da fonte\n",
    "             fontweight='bold', # Espessura da fonte\n",
    "             color='#00b247' # Cor da fonte\n",
    "            )"
   ]
  },
  {
   "cell_type": "code",
   "execution_count": null,
   "metadata": {
    "id": "K4Hkg1t9ftAv"
   },
   "outputs": [],
   "source": [
    "ax.set_title(\"TOP ITENS\", # Título do gráfico\n",
    "             fontsize=20, # Tamanho da fonte\n",
    "             fontweight='bold', # Espessura da fonte\n",
    "             color='#00b247' # Cor da fonte\n",
    "            )"
   ]
  },
  {
   "cell_type": "code",
   "execution_count": null,
   "metadata": {
    "id": "N0m6W7GcftAv"
   },
   "outputs": [],
   "source": [
    "ax.set_title(\"ITENS X ANOS\", # Título do gráfico\n",
    "             fontsize=20, # Tamanho da fonte\n",
    "             fontweight='bold', # Espessura da fonte\n",
    "             color='#00b247' # Cor da fonte\n",
    "            )"
   ]
  },
  {
   "cell_type": "markdown",
   "metadata": {
    "id": "clv94IvuftAv"
   },
   "source": [
    "### EXTRA: E se quisermos outros tipos de gráficos?"
   ]
  },
  {
   "cell_type": "code",
   "execution_count": null,
   "metadata": {
    "id": "klARqqZAftAv"
   },
   "outputs": [],
   "source": []
  }
 ],
 "metadata": {
  "colab": {
   "name": "Criando uma apresentação executiva - Arquivo Inicial.ipynb",
   "provenance": []
  },
  "kernelspec": {
   "display_name": "Python 3 (ipykernel)",
   "language": "python",
   "name": "python3"
  },
  "language_info": {
   "codemirror_mode": {
    "name": "ipython",
    "version": 3
   },
   "file_extension": ".py",
   "mimetype": "text/x-python",
   "name": "python",
   "nbconvert_exporter": "python",
   "pygments_lexer": "ipython3",
   "version": "3.12.3"
  }
 },
 "nbformat": 4,
 "nbformat_minor": 4
}
