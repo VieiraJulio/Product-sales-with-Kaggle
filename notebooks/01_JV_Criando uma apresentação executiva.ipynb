{
 "cells": [
  {
   "cell_type": "markdown",
   "metadata": {
    "id": "Qs8xZrbMftAY",
    "jp-MarkdownHeadingCollapsed": true
   },
   "source": [
    "# Criando uma apresentação executiva\n",
    "- Vamos usar a base de vendas do kaggle disponível em:\n",
    "    - https://www.kaggle.com/datasets/rohitsahoo/sales-forecasting\n",
    "\n",
    "### O que queremos responder?\n",
    "- Como foi a **venda** nesse período?\n",
    "- Qual foi a **categoria mais vendida**?\n",
    "- Qual foi o **item mais vendido**?\n"
   ]
  },
  {
   "cell_type": "code",
   "execution_count": 3,
   "metadata": {
    "colab": {
     "base_uri": "https://localhost:8080/",
     "height": 600
    },
    "executionInfo": {
     "elapsed": 219,
     "status": "ok",
     "timestamp": 1659543777208,
     "user": {
      "displayName": "Lucas Leal",
      "userId": "11399223107874428450"
     },
     "user_tz": 420
    },
    "id": "EHi0C9hDftAc",
    "outputId": "f302d1fb-55e2-4444-a7e2-5afe3c9236e1"
   },
   "outputs": [],
   "source": [
    "# Importando as bibliotecas\n",
    "\n",
    "import calendar\n",
    "import datetime as dt\n",
    "import matplotlib.pyplot as plt\n",
    "import numpy as np\n",
    "import pandas as pd"
   ]
  },
  {
   "cell_type": "code",
   "execution_count": 4,
   "metadata": {},
   "outputs": [
    {
     "data": {
      "text/html": [
       "<div>\n",
       "<style scoped>\n",
       "    .dataframe tbody tr th:only-of-type {\n",
       "        vertical-align: middle;\n",
       "    }\n",
       "\n",
       "    .dataframe tbody tr th {\n",
       "        vertical-align: top;\n",
       "    }\n",
       "\n",
       "    .dataframe thead th {\n",
       "        text-align: right;\n",
       "    }\n",
       "</style>\n",
       "<table border=\"1\" class=\"dataframe\">\n",
       "  <thead>\n",
       "    <tr style=\"text-align: right;\">\n",
       "      <th></th>\n",
       "      <th>Row ID</th>\n",
       "      <th>Order ID</th>\n",
       "      <th>Order Date</th>\n",
       "      <th>Ship Date</th>\n",
       "      <th>Ship Mode</th>\n",
       "      <th>Customer ID</th>\n",
       "      <th>Customer Name</th>\n",
       "      <th>Segment</th>\n",
       "      <th>Country</th>\n",
       "      <th>City</th>\n",
       "      <th>State</th>\n",
       "      <th>Postal Code</th>\n",
       "      <th>Region</th>\n",
       "      <th>Product ID</th>\n",
       "      <th>Category</th>\n",
       "      <th>Sub-Category</th>\n",
       "      <th>Product Name</th>\n",
       "      <th>Sales</th>\n",
       "    </tr>\n",
       "  </thead>\n",
       "  <tbody>\n",
       "    <tr>\n",
       "      <th>0</th>\n",
       "      <td>1</td>\n",
       "      <td>CA-2017-152156</td>\n",
       "      <td>08/11/2017</td>\n",
       "      <td>11/11/2017</td>\n",
       "      <td>Second Class</td>\n",
       "      <td>CG-12520</td>\n",
       "      <td>Claire Gute</td>\n",
       "      <td>Consumer</td>\n",
       "      <td>United States</td>\n",
       "      <td>Henderson</td>\n",
       "      <td>Kentucky</td>\n",
       "      <td>42420.0</td>\n",
       "      <td>South</td>\n",
       "      <td>FUR-BO-10001798</td>\n",
       "      <td>Furniture</td>\n",
       "      <td>Bookcases</td>\n",
       "      <td>Bush Somerset Collection Bookcase</td>\n",
       "      <td>261.9600</td>\n",
       "    </tr>\n",
       "    <tr>\n",
       "      <th>1</th>\n",
       "      <td>2</td>\n",
       "      <td>CA-2017-152156</td>\n",
       "      <td>08/11/2017</td>\n",
       "      <td>11/11/2017</td>\n",
       "      <td>Second Class</td>\n",
       "      <td>CG-12520</td>\n",
       "      <td>Claire Gute</td>\n",
       "      <td>Consumer</td>\n",
       "      <td>United States</td>\n",
       "      <td>Henderson</td>\n",
       "      <td>Kentucky</td>\n",
       "      <td>42420.0</td>\n",
       "      <td>South</td>\n",
       "      <td>FUR-CH-10000454</td>\n",
       "      <td>Furniture</td>\n",
       "      <td>Chairs</td>\n",
       "      <td>Hon Deluxe Fabric Upholstered Stacking Chairs,...</td>\n",
       "      <td>731.9400</td>\n",
       "    </tr>\n",
       "    <tr>\n",
       "      <th>2</th>\n",
       "      <td>3</td>\n",
       "      <td>CA-2017-138688</td>\n",
       "      <td>12/06/2017</td>\n",
       "      <td>16/06/2017</td>\n",
       "      <td>Second Class</td>\n",
       "      <td>DV-13045</td>\n",
       "      <td>Darrin Van Huff</td>\n",
       "      <td>Corporate</td>\n",
       "      <td>United States</td>\n",
       "      <td>Los Angeles</td>\n",
       "      <td>California</td>\n",
       "      <td>90036.0</td>\n",
       "      <td>West</td>\n",
       "      <td>OFF-LA-10000240</td>\n",
       "      <td>Office Supplies</td>\n",
       "      <td>Labels</td>\n",
       "      <td>Self-Adhesive Address Labels for Typewriters b...</td>\n",
       "      <td>14.6200</td>\n",
       "    </tr>\n",
       "    <tr>\n",
       "      <th>3</th>\n",
       "      <td>4</td>\n",
       "      <td>US-2016-108966</td>\n",
       "      <td>11/10/2016</td>\n",
       "      <td>18/10/2016</td>\n",
       "      <td>Standard Class</td>\n",
       "      <td>SO-20335</td>\n",
       "      <td>Sean O'Donnell</td>\n",
       "      <td>Consumer</td>\n",
       "      <td>United States</td>\n",
       "      <td>Fort Lauderdale</td>\n",
       "      <td>Florida</td>\n",
       "      <td>33311.0</td>\n",
       "      <td>South</td>\n",
       "      <td>FUR-TA-10000577</td>\n",
       "      <td>Furniture</td>\n",
       "      <td>Tables</td>\n",
       "      <td>Bretford CR4500 Series Slim Rectangular Table</td>\n",
       "      <td>957.5775</td>\n",
       "    </tr>\n",
       "    <tr>\n",
       "      <th>4</th>\n",
       "      <td>5</td>\n",
       "      <td>US-2016-108966</td>\n",
       "      <td>11/10/2016</td>\n",
       "      <td>18/10/2016</td>\n",
       "      <td>Standard Class</td>\n",
       "      <td>SO-20335</td>\n",
       "      <td>Sean O'Donnell</td>\n",
       "      <td>Consumer</td>\n",
       "      <td>United States</td>\n",
       "      <td>Fort Lauderdale</td>\n",
       "      <td>Florida</td>\n",
       "      <td>33311.0</td>\n",
       "      <td>South</td>\n",
       "      <td>OFF-ST-10000760</td>\n",
       "      <td>Office Supplies</td>\n",
       "      <td>Storage</td>\n",
       "      <td>Eldon Fold 'N Roll Cart System</td>\n",
       "      <td>22.3680</td>\n",
       "    </tr>\n",
       "  </tbody>\n",
       "</table>\n",
       "</div>"
      ],
      "text/plain": [
       "   Row ID        Order ID  Order Date   Ship Date       Ship Mode Customer ID  \\\n",
       "0       1  CA-2017-152156  08/11/2017  11/11/2017    Second Class    CG-12520   \n",
       "1       2  CA-2017-152156  08/11/2017  11/11/2017    Second Class    CG-12520   \n",
       "2       3  CA-2017-138688  12/06/2017  16/06/2017    Second Class    DV-13045   \n",
       "3       4  US-2016-108966  11/10/2016  18/10/2016  Standard Class    SO-20335   \n",
       "4       5  US-2016-108966  11/10/2016  18/10/2016  Standard Class    SO-20335   \n",
       "\n",
       "     Customer Name    Segment        Country             City       State  \\\n",
       "0      Claire Gute   Consumer  United States        Henderson    Kentucky   \n",
       "1      Claire Gute   Consumer  United States        Henderson    Kentucky   \n",
       "2  Darrin Van Huff  Corporate  United States      Los Angeles  California   \n",
       "3   Sean O'Donnell   Consumer  United States  Fort Lauderdale     Florida   \n",
       "4   Sean O'Donnell   Consumer  United States  Fort Lauderdale     Florida   \n",
       "\n",
       "   Postal Code Region       Product ID         Category Sub-Category  \\\n",
       "0      42420.0  South  FUR-BO-10001798        Furniture    Bookcases   \n",
       "1      42420.0  South  FUR-CH-10000454        Furniture       Chairs   \n",
       "2      90036.0   West  OFF-LA-10000240  Office Supplies       Labels   \n",
       "3      33311.0  South  FUR-TA-10000577        Furniture       Tables   \n",
       "4      33311.0  South  OFF-ST-10000760  Office Supplies      Storage   \n",
       "\n",
       "                                        Product Name     Sales  \n",
       "0                  Bush Somerset Collection Bookcase  261.9600  \n",
       "1  Hon Deluxe Fabric Upholstered Stacking Chairs,...  731.9400  \n",
       "2  Self-Adhesive Address Labels for Typewriters b...   14.6200  \n",
       "3      Bretford CR4500 Series Slim Rectangular Table  957.5775  \n",
       "4                     Eldon Fold 'N Roll Cart System   22.3680  "
      ]
     },
     "execution_count": 4,
     "metadata": {},
     "output_type": "execute_result"
    }
   ],
   "source": [
    "# Data Frame\n",
    "\n",
    "BASE_CSV = r\"dados/Criando uma apresentação executiva.csv\"\n",
    "base = pd.read_csv(BASE_CSV) \n",
    "\n",
    "base.head()"
   ]
  },
  {
   "cell_type": "code",
   "execution_count": 5,
   "metadata": {
    "id": "YsFEsgoXftAe"
   },
   "outputs": [
    {
     "name": "stdout",
     "output_type": "stream",
     "text": [
      "<class 'pandas.core.frame.DataFrame'>\n",
      "RangeIndex: 9800 entries, 0 to 9799\n",
      "Data columns (total 18 columns):\n",
      " #   Column         Non-Null Count  Dtype  \n",
      "---  ------         --------------  -----  \n",
      " 0   Row ID         9800 non-null   int64  \n",
      " 1   Order ID       9800 non-null   object \n",
      " 2   Order Date     9800 non-null   object \n",
      " 3   Ship Date      9800 non-null   object \n",
      " 4   Ship Mode      9800 non-null   object \n",
      " 5   Customer ID    9800 non-null   object \n",
      " 6   Customer Name  9800 non-null   object \n",
      " 7   Segment        9800 non-null   object \n",
      " 8   Country        9800 non-null   object \n",
      " 9   City           9800 non-null   object \n",
      " 10  State          9800 non-null   object \n",
      " 11  Postal Code    9789 non-null   float64\n",
      " 12  Region         9800 non-null   object \n",
      " 13  Product ID     9800 non-null   object \n",
      " 14  Category       9800 non-null   object \n",
      " 15  Sub-Category   9800 non-null   object \n",
      " 16  Product Name   9800 non-null   object \n",
      " 17  Sales          9800 non-null   float64\n",
      "dtypes: float64(2), int64(1), object(15)\n",
      "memory usage: 1.3+ MB\n"
     ]
    }
   ],
   "source": [
    "# Visualizando as informações da base\n",
    "base.info()"
   ]
  },
  {
   "cell_type": "code",
   "execution_count": 6,
   "metadata": {},
   "outputs": [
    {
     "data": {
      "text/html": [
       "<div>\n",
       "<style scoped>\n",
       "    .dataframe tbody tr th:only-of-type {\n",
       "        vertical-align: middle;\n",
       "    }\n",
       "\n",
       "    .dataframe tbody tr th {\n",
       "        vertical-align: top;\n",
       "    }\n",
       "\n",
       "    .dataframe thead th {\n",
       "        text-align: right;\n",
       "    }\n",
       "</style>\n",
       "<table border=\"1\" class=\"dataframe\">\n",
       "  <thead>\n",
       "    <tr style=\"text-align: right;\">\n",
       "      <th></th>\n",
       "      <th>Row ID</th>\n",
       "      <th>Order ID</th>\n",
       "      <th>Order Date</th>\n",
       "      <th>Ship Date</th>\n",
       "      <th>Ship Mode</th>\n",
       "      <th>Customer ID</th>\n",
       "      <th>Customer Name</th>\n",
       "      <th>Segment</th>\n",
       "      <th>Country</th>\n",
       "      <th>City</th>\n",
       "      <th>State</th>\n",
       "      <th>Postal Code</th>\n",
       "      <th>Region</th>\n",
       "      <th>Product ID</th>\n",
       "      <th>Category</th>\n",
       "      <th>Sub-Category</th>\n",
       "      <th>Product Name</th>\n",
       "      <th>Sales</th>\n",
       "    </tr>\n",
       "  </thead>\n",
       "  <tbody>\n",
       "    <tr>\n",
       "      <th>2234</th>\n",
       "      <td>2235</td>\n",
       "      <td>CA-2018-104066</td>\n",
       "      <td>05/12/2018</td>\n",
       "      <td>10/12/2018</td>\n",
       "      <td>Standard Class</td>\n",
       "      <td>QJ-19255</td>\n",
       "      <td>Quincy Jones</td>\n",
       "      <td>Corporate</td>\n",
       "      <td>United States</td>\n",
       "      <td>Burlington</td>\n",
       "      <td>Vermont</td>\n",
       "      <td>NaN</td>\n",
       "      <td>East</td>\n",
       "      <td>TEC-AC-10001013</td>\n",
       "      <td>Technology</td>\n",
       "      <td>Accessories</td>\n",
       "      <td>Logitech ClearChat Comfort/USB Headset H390</td>\n",
       "      <td>205.03</td>\n",
       "    </tr>\n",
       "    <tr>\n",
       "      <th>5274</th>\n",
       "      <td>5275</td>\n",
       "      <td>CA-2016-162887</td>\n",
       "      <td>07/11/2016</td>\n",
       "      <td>09/11/2016</td>\n",
       "      <td>Second Class</td>\n",
       "      <td>SV-20785</td>\n",
       "      <td>Stewart Visinsky</td>\n",
       "      <td>Consumer</td>\n",
       "      <td>United States</td>\n",
       "      <td>Burlington</td>\n",
       "      <td>Vermont</td>\n",
       "      <td>NaN</td>\n",
       "      <td>East</td>\n",
       "      <td>FUR-CH-10000595</td>\n",
       "      <td>Furniture</td>\n",
       "      <td>Chairs</td>\n",
       "      <td>Safco Contoured Stacking Chairs</td>\n",
       "      <td>715.20</td>\n",
       "    </tr>\n",
       "    <tr>\n",
       "      <th>8798</th>\n",
       "      <td>8799</td>\n",
       "      <td>US-2017-150140</td>\n",
       "      <td>06/04/2017</td>\n",
       "      <td>10/04/2017</td>\n",
       "      <td>Standard Class</td>\n",
       "      <td>VM-21685</td>\n",
       "      <td>Valerie Mitchum</td>\n",
       "      <td>Home Office</td>\n",
       "      <td>United States</td>\n",
       "      <td>Burlington</td>\n",
       "      <td>Vermont</td>\n",
       "      <td>NaN</td>\n",
       "      <td>East</td>\n",
       "      <td>TEC-PH-10002555</td>\n",
       "      <td>Technology</td>\n",
       "      <td>Phones</td>\n",
       "      <td>Nortel Meridian M5316 Digital phone</td>\n",
       "      <td>1294.75</td>\n",
       "    </tr>\n",
       "    <tr>\n",
       "      <th>9146</th>\n",
       "      <td>9147</td>\n",
       "      <td>US-2017-165505</td>\n",
       "      <td>23/01/2017</td>\n",
       "      <td>27/01/2017</td>\n",
       "      <td>Standard Class</td>\n",
       "      <td>CB-12535</td>\n",
       "      <td>Claudia Bergmann</td>\n",
       "      <td>Corporate</td>\n",
       "      <td>United States</td>\n",
       "      <td>Burlington</td>\n",
       "      <td>Vermont</td>\n",
       "      <td>NaN</td>\n",
       "      <td>East</td>\n",
       "      <td>TEC-AC-10002926</td>\n",
       "      <td>Technology</td>\n",
       "      <td>Accessories</td>\n",
       "      <td>Logitech Wireless Marathon Mouse M705</td>\n",
       "      <td>99.98</td>\n",
       "    </tr>\n",
       "    <tr>\n",
       "      <th>9147</th>\n",
       "      <td>9148</td>\n",
       "      <td>US-2017-165505</td>\n",
       "      <td>23/01/2017</td>\n",
       "      <td>27/01/2017</td>\n",
       "      <td>Standard Class</td>\n",
       "      <td>CB-12535</td>\n",
       "      <td>Claudia Bergmann</td>\n",
       "      <td>Corporate</td>\n",
       "      <td>United States</td>\n",
       "      <td>Burlington</td>\n",
       "      <td>Vermont</td>\n",
       "      <td>NaN</td>\n",
       "      <td>East</td>\n",
       "      <td>OFF-AR-10003477</td>\n",
       "      <td>Office Supplies</td>\n",
       "      <td>Art</td>\n",
       "      <td>4009 Highlighters</td>\n",
       "      <td>8.04</td>\n",
       "    </tr>\n",
       "    <tr>\n",
       "      <th>9148</th>\n",
       "      <td>9149</td>\n",
       "      <td>US-2017-165505</td>\n",
       "      <td>23/01/2017</td>\n",
       "      <td>27/01/2017</td>\n",
       "      <td>Standard Class</td>\n",
       "      <td>CB-12535</td>\n",
       "      <td>Claudia Bergmann</td>\n",
       "      <td>Corporate</td>\n",
       "      <td>United States</td>\n",
       "      <td>Burlington</td>\n",
       "      <td>Vermont</td>\n",
       "      <td>NaN</td>\n",
       "      <td>East</td>\n",
       "      <td>OFF-ST-10001526</td>\n",
       "      <td>Office Supplies</td>\n",
       "      <td>Storage</td>\n",
       "      <td>Iceberg Mobile Mega Data/Printer Cart</td>\n",
       "      <td>1564.29</td>\n",
       "    </tr>\n",
       "    <tr>\n",
       "      <th>9386</th>\n",
       "      <td>9387</td>\n",
       "      <td>US-2018-127292</td>\n",
       "      <td>19/01/2018</td>\n",
       "      <td>23/01/2018</td>\n",
       "      <td>Standard Class</td>\n",
       "      <td>RM-19375</td>\n",
       "      <td>Raymond Messe</td>\n",
       "      <td>Consumer</td>\n",
       "      <td>United States</td>\n",
       "      <td>Burlington</td>\n",
       "      <td>Vermont</td>\n",
       "      <td>NaN</td>\n",
       "      <td>East</td>\n",
       "      <td>OFF-PA-10000157</td>\n",
       "      <td>Office Supplies</td>\n",
       "      <td>Paper</td>\n",
       "      <td>Xerox 191</td>\n",
       "      <td>79.92</td>\n",
       "    </tr>\n",
       "    <tr>\n",
       "      <th>9387</th>\n",
       "      <td>9388</td>\n",
       "      <td>US-2018-127292</td>\n",
       "      <td>19/01/2018</td>\n",
       "      <td>23/01/2018</td>\n",
       "      <td>Standard Class</td>\n",
       "      <td>RM-19375</td>\n",
       "      <td>Raymond Messe</td>\n",
       "      <td>Consumer</td>\n",
       "      <td>United States</td>\n",
       "      <td>Burlington</td>\n",
       "      <td>Vermont</td>\n",
       "      <td>NaN</td>\n",
       "      <td>East</td>\n",
       "      <td>OFF-PA-10001970</td>\n",
       "      <td>Office Supplies</td>\n",
       "      <td>Paper</td>\n",
       "      <td>Xerox 1881</td>\n",
       "      <td>12.28</td>\n",
       "    </tr>\n",
       "    <tr>\n",
       "      <th>9388</th>\n",
       "      <td>9389</td>\n",
       "      <td>US-2018-127292</td>\n",
       "      <td>19/01/2018</td>\n",
       "      <td>23/01/2018</td>\n",
       "      <td>Standard Class</td>\n",
       "      <td>RM-19375</td>\n",
       "      <td>Raymond Messe</td>\n",
       "      <td>Consumer</td>\n",
       "      <td>United States</td>\n",
       "      <td>Burlington</td>\n",
       "      <td>Vermont</td>\n",
       "      <td>NaN</td>\n",
       "      <td>East</td>\n",
       "      <td>OFF-AP-10000828</td>\n",
       "      <td>Office Supplies</td>\n",
       "      <td>Appliances</td>\n",
       "      <td>Avanti 4.4 Cu. Ft. Refrigerator</td>\n",
       "      <td>542.94</td>\n",
       "    </tr>\n",
       "    <tr>\n",
       "      <th>9389</th>\n",
       "      <td>9390</td>\n",
       "      <td>US-2018-127292</td>\n",
       "      <td>19/01/2018</td>\n",
       "      <td>23/01/2018</td>\n",
       "      <td>Standard Class</td>\n",
       "      <td>RM-19375</td>\n",
       "      <td>Raymond Messe</td>\n",
       "      <td>Consumer</td>\n",
       "      <td>United States</td>\n",
       "      <td>Burlington</td>\n",
       "      <td>Vermont</td>\n",
       "      <td>NaN</td>\n",
       "      <td>East</td>\n",
       "      <td>OFF-EN-10001509</td>\n",
       "      <td>Office Supplies</td>\n",
       "      <td>Envelopes</td>\n",
       "      <td>Poly String Tie Envelopes</td>\n",
       "      <td>2.04</td>\n",
       "    </tr>\n",
       "    <tr>\n",
       "      <th>9741</th>\n",
       "      <td>9742</td>\n",
       "      <td>CA-2016-117086</td>\n",
       "      <td>08/11/2016</td>\n",
       "      <td>12/11/2016</td>\n",
       "      <td>Standard Class</td>\n",
       "      <td>QJ-19255</td>\n",
       "      <td>Quincy Jones</td>\n",
       "      <td>Corporate</td>\n",
       "      <td>United States</td>\n",
       "      <td>Burlington</td>\n",
       "      <td>Vermont</td>\n",
       "      <td>NaN</td>\n",
       "      <td>East</td>\n",
       "      <td>FUR-BO-10004834</td>\n",
       "      <td>Furniture</td>\n",
       "      <td>Bookcases</td>\n",
       "      <td>Riverside Palais Royal Lawyers Bookcase, Royal...</td>\n",
       "      <td>4404.90</td>\n",
       "    </tr>\n",
       "  </tbody>\n",
       "</table>\n",
       "</div>"
      ],
      "text/plain": [
       "      Row ID        Order ID  Order Date   Ship Date       Ship Mode  \\\n",
       "2234    2235  CA-2018-104066  05/12/2018  10/12/2018  Standard Class   \n",
       "5274    5275  CA-2016-162887  07/11/2016  09/11/2016    Second Class   \n",
       "8798    8799  US-2017-150140  06/04/2017  10/04/2017  Standard Class   \n",
       "9146    9147  US-2017-165505  23/01/2017  27/01/2017  Standard Class   \n",
       "9147    9148  US-2017-165505  23/01/2017  27/01/2017  Standard Class   \n",
       "9148    9149  US-2017-165505  23/01/2017  27/01/2017  Standard Class   \n",
       "9386    9387  US-2018-127292  19/01/2018  23/01/2018  Standard Class   \n",
       "9387    9388  US-2018-127292  19/01/2018  23/01/2018  Standard Class   \n",
       "9388    9389  US-2018-127292  19/01/2018  23/01/2018  Standard Class   \n",
       "9389    9390  US-2018-127292  19/01/2018  23/01/2018  Standard Class   \n",
       "9741    9742  CA-2016-117086  08/11/2016  12/11/2016  Standard Class   \n",
       "\n",
       "     Customer ID     Customer Name      Segment        Country        City  \\\n",
       "2234    QJ-19255      Quincy Jones    Corporate  United States  Burlington   \n",
       "5274    SV-20785  Stewart Visinsky     Consumer  United States  Burlington   \n",
       "8798    VM-21685   Valerie Mitchum  Home Office  United States  Burlington   \n",
       "9146    CB-12535  Claudia Bergmann    Corporate  United States  Burlington   \n",
       "9147    CB-12535  Claudia Bergmann    Corporate  United States  Burlington   \n",
       "9148    CB-12535  Claudia Bergmann    Corporate  United States  Burlington   \n",
       "9386    RM-19375     Raymond Messe     Consumer  United States  Burlington   \n",
       "9387    RM-19375     Raymond Messe     Consumer  United States  Burlington   \n",
       "9388    RM-19375     Raymond Messe     Consumer  United States  Burlington   \n",
       "9389    RM-19375     Raymond Messe     Consumer  United States  Burlington   \n",
       "9741    QJ-19255      Quincy Jones    Corporate  United States  Burlington   \n",
       "\n",
       "        State  Postal Code Region       Product ID         Category  \\\n",
       "2234  Vermont          NaN   East  TEC-AC-10001013       Technology   \n",
       "5274  Vermont          NaN   East  FUR-CH-10000595        Furniture   \n",
       "8798  Vermont          NaN   East  TEC-PH-10002555       Technology   \n",
       "9146  Vermont          NaN   East  TEC-AC-10002926       Technology   \n",
       "9147  Vermont          NaN   East  OFF-AR-10003477  Office Supplies   \n",
       "9148  Vermont          NaN   East  OFF-ST-10001526  Office Supplies   \n",
       "9386  Vermont          NaN   East  OFF-PA-10000157  Office Supplies   \n",
       "9387  Vermont          NaN   East  OFF-PA-10001970  Office Supplies   \n",
       "9388  Vermont          NaN   East  OFF-AP-10000828  Office Supplies   \n",
       "9389  Vermont          NaN   East  OFF-EN-10001509  Office Supplies   \n",
       "9741  Vermont          NaN   East  FUR-BO-10004834        Furniture   \n",
       "\n",
       "     Sub-Category                                       Product Name    Sales  \n",
       "2234  Accessories        Logitech ClearChat Comfort/USB Headset H390   205.03  \n",
       "5274       Chairs                    Safco Contoured Stacking Chairs   715.20  \n",
       "8798       Phones                Nortel Meridian M5316 Digital phone  1294.75  \n",
       "9146  Accessories              Logitech Wireless Marathon Mouse M705    99.98  \n",
       "9147          Art                                  4009 Highlighters     8.04  \n",
       "9148      Storage              Iceberg Mobile Mega Data/Printer Cart  1564.29  \n",
       "9386        Paper                                          Xerox 191    79.92  \n",
       "9387        Paper                                         Xerox 1881    12.28  \n",
       "9388   Appliances                    Avanti 4.4 Cu. Ft. Refrigerator   542.94  \n",
       "9389    Envelopes                          Poly String Tie Envelopes     2.04  \n",
       "9741    Bookcases  Riverside Palais Royal Lawyers Bookcase, Royal...  4404.90  "
      ]
     },
     "execution_count": 6,
     "metadata": {},
     "output_type": "execute_result"
    }
   ],
   "source": [
    "# Verificando os registros com Postal Code vazio\n",
    "\n",
    "base[base['Postal Code'].isnull()]"
   ]
  },
  {
   "cell_type": "code",
   "execution_count": 7,
   "metadata": {
    "id": "pAcxcVHkftAg"
   },
   "outputs": [
    {
     "data": {
      "text/html": [
       "<div>\n",
       "<style scoped>\n",
       "    .dataframe tbody tr th:only-of-type {\n",
       "        vertical-align: middle;\n",
       "    }\n",
       "\n",
       "    .dataframe tbody tr th {\n",
       "        vertical-align: top;\n",
       "    }\n",
       "\n",
       "    .dataframe thead th {\n",
       "        text-align: right;\n",
       "    }\n",
       "</style>\n",
       "<table border=\"1\" class=\"dataframe\">\n",
       "  <thead>\n",
       "    <tr style=\"text-align: right;\">\n",
       "      <th></th>\n",
       "      <th>State</th>\n",
       "      <th>City</th>\n",
       "      <th>Postal Code</th>\n",
       "    </tr>\n",
       "  </thead>\n",
       "  <tbody>\n",
       "    <tr>\n",
       "      <th>2234</th>\n",
       "      <td>Vermont</td>\n",
       "      <td>Burlington</td>\n",
       "      <td>NaN</td>\n",
       "    </tr>\n",
       "    <tr>\n",
       "      <th>5274</th>\n",
       "      <td>Vermont</td>\n",
       "      <td>Burlington</td>\n",
       "      <td>NaN</td>\n",
       "    </tr>\n",
       "    <tr>\n",
       "      <th>8798</th>\n",
       "      <td>Vermont</td>\n",
       "      <td>Burlington</td>\n",
       "      <td>NaN</td>\n",
       "    </tr>\n",
       "    <tr>\n",
       "      <th>9146</th>\n",
       "      <td>Vermont</td>\n",
       "      <td>Burlington</td>\n",
       "      <td>NaN</td>\n",
       "    </tr>\n",
       "    <tr>\n",
       "      <th>9147</th>\n",
       "      <td>Vermont</td>\n",
       "      <td>Burlington</td>\n",
       "      <td>NaN</td>\n",
       "    </tr>\n",
       "    <tr>\n",
       "      <th>9148</th>\n",
       "      <td>Vermont</td>\n",
       "      <td>Burlington</td>\n",
       "      <td>NaN</td>\n",
       "    </tr>\n",
       "    <tr>\n",
       "      <th>9386</th>\n",
       "      <td>Vermont</td>\n",
       "      <td>Burlington</td>\n",
       "      <td>NaN</td>\n",
       "    </tr>\n",
       "    <tr>\n",
       "      <th>9387</th>\n",
       "      <td>Vermont</td>\n",
       "      <td>Burlington</td>\n",
       "      <td>NaN</td>\n",
       "    </tr>\n",
       "    <tr>\n",
       "      <th>9388</th>\n",
       "      <td>Vermont</td>\n",
       "      <td>Burlington</td>\n",
       "      <td>NaN</td>\n",
       "    </tr>\n",
       "    <tr>\n",
       "      <th>9389</th>\n",
       "      <td>Vermont</td>\n",
       "      <td>Burlington</td>\n",
       "      <td>NaN</td>\n",
       "    </tr>\n",
       "    <tr>\n",
       "      <th>9741</th>\n",
       "      <td>Vermont</td>\n",
       "      <td>Burlington</td>\n",
       "      <td>NaN</td>\n",
       "    </tr>\n",
       "  </tbody>\n",
       "</table>\n",
       "</div>"
      ],
      "text/plain": [
       "        State        City  Postal Code\n",
       "2234  Vermont  Burlington          NaN\n",
       "5274  Vermont  Burlington          NaN\n",
       "8798  Vermont  Burlington          NaN\n",
       "9146  Vermont  Burlington          NaN\n",
       "9147  Vermont  Burlington          NaN\n",
       "9148  Vermont  Burlington          NaN\n",
       "9386  Vermont  Burlington          NaN\n",
       "9387  Vermont  Burlington          NaN\n",
       "9388  Vermont  Burlington          NaN\n",
       "9389  Vermont  Burlington          NaN\n",
       "9741  Vermont  Burlington          NaN"
      ]
     },
     "execution_count": 7,
     "metadata": {},
     "output_type": "execute_result"
    }
   ],
   "source": [
    "# Verificando se existe algum registro de Burlington, Vermont com Postal Code \n",
    "\n",
    "base[['State', 'City', 'Postal Code']].loc[base['State'] == 'Vermont']"
   ]
  },
  {
   "cell_type": "code",
   "execution_count": 8,
   "metadata": {
    "id": "wXmfminFftAh"
   },
   "outputs": [
    {
     "data": {
      "text/html": [
       "<div>\n",
       "<style scoped>\n",
       "    .dataframe tbody tr th:only-of-type {\n",
       "        vertical-align: middle;\n",
       "    }\n",
       "\n",
       "    .dataframe tbody tr th {\n",
       "        vertical-align: top;\n",
       "    }\n",
       "\n",
       "    .dataframe thead th {\n",
       "        text-align: right;\n",
       "    }\n",
       "</style>\n",
       "<table border=\"1\" class=\"dataframe\">\n",
       "  <thead>\n",
       "    <tr style=\"text-align: right;\">\n",
       "      <th></th>\n",
       "      <th>State</th>\n",
       "      <th>City</th>\n",
       "      <th>Postal Code</th>\n",
       "    </tr>\n",
       "  </thead>\n",
       "  <tbody>\n",
       "    <tr>\n",
       "      <th>2234</th>\n",
       "      <td>Vermont</td>\n",
       "      <td>Burlington</td>\n",
       "      <td>5401.0</td>\n",
       "    </tr>\n",
       "    <tr>\n",
       "      <th>5274</th>\n",
       "      <td>Vermont</td>\n",
       "      <td>Burlington</td>\n",
       "      <td>5401.0</td>\n",
       "    </tr>\n",
       "    <tr>\n",
       "      <th>8798</th>\n",
       "      <td>Vermont</td>\n",
       "      <td>Burlington</td>\n",
       "      <td>5401.0</td>\n",
       "    </tr>\n",
       "    <tr>\n",
       "      <th>9146</th>\n",
       "      <td>Vermont</td>\n",
       "      <td>Burlington</td>\n",
       "      <td>5401.0</td>\n",
       "    </tr>\n",
       "    <tr>\n",
       "      <th>9147</th>\n",
       "      <td>Vermont</td>\n",
       "      <td>Burlington</td>\n",
       "      <td>5401.0</td>\n",
       "    </tr>\n",
       "    <tr>\n",
       "      <th>9148</th>\n",
       "      <td>Vermont</td>\n",
       "      <td>Burlington</td>\n",
       "      <td>5401.0</td>\n",
       "    </tr>\n",
       "    <tr>\n",
       "      <th>9386</th>\n",
       "      <td>Vermont</td>\n",
       "      <td>Burlington</td>\n",
       "      <td>5401.0</td>\n",
       "    </tr>\n",
       "    <tr>\n",
       "      <th>9387</th>\n",
       "      <td>Vermont</td>\n",
       "      <td>Burlington</td>\n",
       "      <td>5401.0</td>\n",
       "    </tr>\n",
       "    <tr>\n",
       "      <th>9388</th>\n",
       "      <td>Vermont</td>\n",
       "      <td>Burlington</td>\n",
       "      <td>5401.0</td>\n",
       "    </tr>\n",
       "    <tr>\n",
       "      <th>9389</th>\n",
       "      <td>Vermont</td>\n",
       "      <td>Burlington</td>\n",
       "      <td>5401.0</td>\n",
       "    </tr>\n",
       "    <tr>\n",
       "      <th>9741</th>\n",
       "      <td>Vermont</td>\n",
       "      <td>Burlington</td>\n",
       "      <td>5401.0</td>\n",
       "    </tr>\n",
       "  </tbody>\n",
       "</table>\n",
       "</div>"
      ],
      "text/plain": [
       "        State        City Postal Code\n",
       "2234  Vermont  Burlington      5401.0\n",
       "5274  Vermont  Burlington      5401.0\n",
       "8798  Vermont  Burlington      5401.0\n",
       "9146  Vermont  Burlington      5401.0\n",
       "9147  Vermont  Burlington      5401.0\n",
       "9148  Vermont  Burlington      5401.0\n",
       "9386  Vermont  Burlington      5401.0\n",
       "9387  Vermont  Burlington      5401.0\n",
       "9388  Vermont  Burlington      5401.0\n",
       "9389  Vermont  Burlington      5401.0\n",
       "9741  Vermont  Burlington      5401.0"
      ]
     },
     "execution_count": 8,
     "metadata": {},
     "output_type": "execute_result"
    }
   ],
   "source": [
    "# Atualizando essa informação\n",
    "\n",
    "base.loc[base['State'] == 'Vermont', 'Postal Code']  = 5401\n",
    "base['Postal Code'] = base['Postal Code'].astype('object')\n",
    "\n",
    "base[['State', 'City', 'Postal Code']].loc[base['State'] == 'Vermont']\n"
   ]
  },
  {
   "cell_type": "code",
   "execution_count": 9,
   "metadata": {
    "id": "u97xLfklftAh"
   },
   "outputs": [
    {
     "name": "stdout",
     "output_type": "stream",
     "text": [
      "<class 'pandas.core.frame.DataFrame'>\n",
      "RangeIndex: 9800 entries, 0 to 9799\n",
      "Data columns (total 18 columns):\n",
      " #   Column         Non-Null Count  Dtype  \n",
      "---  ------         --------------  -----  \n",
      " 0   Row ID         9800 non-null   int64  \n",
      " 1   Order ID       9800 non-null   object \n",
      " 2   Order Date     9800 non-null   object \n",
      " 3   Ship Date      9800 non-null   object \n",
      " 4   Ship Mode      9800 non-null   object \n",
      " 5   Customer ID    9800 non-null   object \n",
      " 6   Customer Name  9800 non-null   object \n",
      " 7   Segment        9800 non-null   object \n",
      " 8   Country        9800 non-null   object \n",
      " 9   City           9800 non-null   object \n",
      " 10  State          9800 non-null   object \n",
      " 11  Postal Code    9800 non-null   object \n",
      " 12  Region         9800 non-null   object \n",
      " 13  Product ID     9800 non-null   object \n",
      " 14  Category       9800 non-null   object \n",
      " 15  Sub-Category   9800 non-null   object \n",
      " 16  Product Name   9800 non-null   object \n",
      " 17  Sales          9800 non-null   float64\n",
      "dtypes: float64(1), int64(1), object(16)\n",
      "memory usage: 1.3+ MB\n"
     ]
    }
   ],
   "source": [
    "# Verificando se ainda existe algum valor nulo\n",
    "base.info()"
   ]
  },
  {
   "cell_type": "code",
   "execution_count": 10,
   "metadata": {},
   "outputs": [
    {
     "data": {
      "text/plain": [
       "array(['08/11/2017', '12/06/2017', '11/10/2016', ..., '18/06/2015',\n",
       "       '28/02/2018', '09/05/2016'], dtype=object)"
      ]
     },
     "execution_count": 10,
     "metadata": {},
     "output_type": "execute_result"
    }
   ],
   "source": [
    "base['Order Date'].unique()"
   ]
  },
  {
   "cell_type": "code",
   "execution_count": 11,
   "metadata": {
    "id": "bHZTFqMXftAi"
   },
   "outputs": [],
   "source": [
    "# Formatando Datas\n",
    "\n",
    "base['Order Date'] = pd.to_datetime(base['Order Date'], format = \"%d/%m/%Y\")\n",
    "base['Ship Date'] = pd.to_datetime(base['Ship Date'], format = \"%d/%m/%Y\")"
   ]
  },
  {
   "cell_type": "code",
   "execution_count": 12,
   "metadata": {
    "id": "fFKNDKz4ftAj"
   },
   "outputs": [
    {
     "name": "stdout",
     "output_type": "stream",
     "text": [
      "<class 'pandas.core.frame.DataFrame'>\n",
      "RangeIndex: 9800 entries, 0 to 9799\n",
      "Data columns (total 18 columns):\n",
      " #   Column         Non-Null Count  Dtype         \n",
      "---  ------         --------------  -----         \n",
      " 0   Row ID         9800 non-null   int64         \n",
      " 1   Order ID       9800 non-null   object        \n",
      " 2   Order Date     9800 non-null   datetime64[ns]\n",
      " 3   Ship Date      9800 non-null   datetime64[ns]\n",
      " 4   Ship Mode      9800 non-null   object        \n",
      " 5   Customer ID    9800 non-null   object        \n",
      " 6   Customer Name  9800 non-null   object        \n",
      " 7   Segment        9800 non-null   object        \n",
      " 8   Country        9800 non-null   object        \n",
      " 9   City           9800 non-null   object        \n",
      " 10  State          9800 non-null   object        \n",
      " 11  Postal Code    9800 non-null   object        \n",
      " 12  Region         9800 non-null   object        \n",
      " 13  Product ID     9800 non-null   object        \n",
      " 14  Category       9800 non-null   object        \n",
      " 15  Sub-Category   9800 non-null   object        \n",
      " 16  Product Name   9800 non-null   object        \n",
      " 17  Sales          9800 non-null   float64       \n",
      "dtypes: datetime64[ns](2), float64(1), int64(1), object(14)\n",
      "memory usage: 1.3+ MB\n"
     ]
    }
   ],
   "source": [
    "base.info()"
   ]
  },
  {
   "cell_type": "code",
   "execution_count": 13,
   "metadata": {},
   "outputs": [
    {
     "data": {
      "text/plain": [
       "Timestamp('2015-01-03 00:00:00')"
      ]
     },
     "execution_count": 13,
     "metadata": {},
     "output_type": "execute_result"
    }
   ],
   "source": [
    "base['Order Date'].min()"
   ]
  },
  {
   "cell_type": "code",
   "execution_count": 14,
   "metadata": {},
   "outputs": [
    {
     "data": {
      "text/plain": [
       "Timestamp('2018-12-30 00:00:00')"
      ]
     },
     "execution_count": 14,
     "metadata": {},
     "output_type": "execute_result"
    }
   ],
   "source": [
    "base['Order Date'].max()"
   ]
  },
  {
   "cell_type": "markdown",
   "metadata": {
    "id": "sKfHfOysftAk"
   },
   "source": [
    "- Estamos falando de 4 anos de análise, começando em jan/2015 e indo até dez/2018"
   ]
  },
  {
   "cell_type": "markdown",
   "metadata": {
    "id": "6HZ8Lb_HftAk"
   },
   "source": [
    "# Venda por ano"
   ]
  },
  {
   "cell_type": "code",
   "execution_count": 17,
   "metadata": {
    "id": "lXfE5-M8ftAk"
   },
   "outputs": [],
   "source": [
    "# Criando uma coluna com o ano\n",
    "\n",
    "base['Year'] = base['Order Date'].dt.year"
   ]
  },
  {
   "cell_type": "code",
   "execution_count": 18,
   "metadata": {
    "id": "nBO2QK7eftAl"
   },
   "outputs": [
    {
     "data": {
      "text/html": [
       "<div>\n",
       "<style scoped>\n",
       "    .dataframe tbody tr th:only-of-type {\n",
       "        vertical-align: middle;\n",
       "    }\n",
       "\n",
       "    .dataframe tbody tr th {\n",
       "        vertical-align: top;\n",
       "    }\n",
       "\n",
       "    .dataframe thead th {\n",
       "        text-align: right;\n",
       "    }\n",
       "</style>\n",
       "<table border=\"1\" class=\"dataframe\">\n",
       "  <thead>\n",
       "    <tr style=\"text-align: right;\">\n",
       "      <th></th>\n",
       "      <th>Sales</th>\n",
       "    </tr>\n",
       "    <tr>\n",
       "      <th>Year</th>\n",
       "      <th></th>\n",
       "    </tr>\n",
       "  </thead>\n",
       "  <tbody>\n",
       "    <tr>\n",
       "      <th>2015</th>\n",
       "      <td>479856.2081</td>\n",
       "    </tr>\n",
       "    <tr>\n",
       "      <th>2016</th>\n",
       "      <td>459436.0054</td>\n",
       "    </tr>\n",
       "    <tr>\n",
       "      <th>2017</th>\n",
       "      <td>600192.5500</td>\n",
       "    </tr>\n",
       "    <tr>\n",
       "      <th>2018</th>\n",
       "      <td>722052.0192</td>\n",
       "    </tr>\n",
       "  </tbody>\n",
       "</table>\n",
       "</div>"
      ],
      "text/plain": [
       "            Sales\n",
       "Year             \n",
       "2015  479856.2081\n",
       "2016  459436.0054\n",
       "2017  600192.5500\n",
       "2018  722052.0192"
      ]
     },
     "execution_count": 18,
     "metadata": {},
     "output_type": "execute_result"
    }
   ],
   "source": [
    "# Usando essa coluna no group by e criando um plot de barras\n",
    "\n",
    "base_agrp = base.groupby('Year')['Sales'].sum().to_frame()\n",
    "base_agrp"
   ]
  },
  {
   "cell_type": "code",
   "execution_count": 19,
   "metadata": {},
   "outputs": [
    {
     "name": "stdout",
     "output_type": "stream",
     "text": [
      "<class 'pandas.core.frame.DataFrame'>\n",
      "Index: 4 entries, 2015 to 2018\n",
      "Data columns (total 1 columns):\n",
      " #   Column  Non-Null Count  Dtype  \n",
      "---  ------  --------------  -----  \n",
      " 0   Sales   4 non-null      float64\n",
      "dtypes: float64(1)\n",
      "memory usage: 48.0 bytes\n"
     ]
    }
   ],
   "source": [
    "base_agrp.info()"
   ]
  },
  {
   "cell_type": "code",
   "execution_count": 20,
   "metadata": {},
   "outputs": [
    {
     "data": {
      "text/plain": [
       "<Axes: xlabel='Year'>"
      ]
     },
     "execution_count": 20,
     "metadata": {},
     "output_type": "execute_result"
    },
    {
     "data": {
      "image/png": "[encoded data removed]",
      "text/plain": [
       "<Figure size 640x480 with 1 Axes>"
      ]
     },
     "metadata": {},
     "output_type": "display_data"
    }
   ],
   "source": [
    "base_agrp.plot()"
   ]
  },
  {
   "cell_type": "code",
   "execution_count": 21,
   "metadata": {
    "id": "ruwYbTHRftAl"
   },
   "outputs": [
    {
     "data": {
      "image/png": "[encoded data removed]",
      "text/plain": [
       "<Figure size 800x400 with 1 Axes>"
      ]
     },
     "metadata": {},
     "output_type": "display_data"
    }
   ],
   "source": [
    "cores = plt.cm.Set3.colors # alterando o ciclo de cores\n",
    "\n",
    "fig = plt.figure(figsize = (8,4))\n",
    "axs =  fig.subplot_mosaic('A')\n",
    "\n",
    "barras = axs['A'].bar(base_agrp.index, base_agrp['Sales'], color = cores[5], width = 0.65)\n",
    "\n",
    "axs['A'].set_title(\"Vendas por Ano \\n\",fontsize=16,fontweight='bold',color=cores[5])\n",
    "\n",
    "rotulos =  [f\"{venda:,.0f}\" for venda in base_agrp['Sales']]\n",
    "axs['A'].bar_label(barras, labels= rotulos, label_type='edge', padding= 5, fontweight = 'bold', color = cores[5])\n",
    "\n",
    "\n",
    "# eixos \n",
    "\n",
    "anos = [2015,2016,2017,2018]\n",
    "\n",
    "axs['A'].xaxis.set_ticks(anos)\n",
    "axs['A'].set_xticklabels(labels = anos, fontweight = 'bold', fontsize = 10)\n",
    "axs['A'].tick_params(axis = 'x', length = 0)\n",
    "\n",
    "axs['A'].yaxis.set_visible(False)\n",
    "\n",
    "# barras \n",
    "\n",
    "for i in range(3):\n",
    "    barras[i].set_color(cores[5])\n",
    "    barras[i].set_alpha(0.4)\n",
    "\n",
    "axs['A'].grid(True, axis= 'y', color = 'Darkgray', alpha = 0.8)\n",
    "\n",
    "axs['A'].set_frame_on(False)\n",
    "\n",
    "\n",
    "plt.show()"
   ]
  },
  {
   "cell_type": "code",
   "execution_count": 22,
   "metadata": {
    "id": "YNfR5695ftAn"
   },
   "outputs": [],
   "source": [
    "base['Month'] = base['Order Date'].dt.month\n",
    "# Usando essa coluna no group by e criando um plot de barras\n",
    "\n",
    "base_agrp_mes = base.groupby(['Year', 'Month'])['Sales'].sum().to_frame()"
   ]
  },
  {
   "cell_type": "code",
   "execution_count": 23,
   "metadata": {},
   "outputs": [
    {
     "data": {
      "text/plain": [
       "(2015, 1)"
      ]
     },
     "execution_count": 23,
     "metadata": {},
     "output_type": "execute_result"
    }
   ],
   "source": [
    "base_agrp_mes.index[0]"
   ]
  },
  {
   "cell_type": "markdown",
   "metadata": {
    "id": "gmW6lv12ftAo"
   },
   "source": [
    "**Com o <font color=\"blue\">.reset_index()</font> conseguimos transformar os índices em colunas e então aplicar todas as propriedades que conhecemos para o DataFrame**"
   ]
  },
  {
   "cell_type": "code",
   "execution_count": 25,
   "metadata": {},
   "outputs": [],
   "source": [
    "base_agrp_mes = base_agrp_mes.reset_index()"
   ]
  },
  {
   "cell_type": "code",
   "execution_count": 26,
   "metadata": {},
   "outputs": [
    {
     "data": {
      "text/html": [
       "<div>\n",
       "<style scoped>\n",
       "    .dataframe tbody tr th:only-of-type {\n",
       "        vertical-align: middle;\n",
       "    }\n",
       "\n",
       "    .dataframe tbody tr th {\n",
       "        vertical-align: top;\n",
       "    }\n",
       "\n",
       "    .dataframe thead th {\n",
       "        text-align: right;\n",
       "    }\n",
       "</style>\n",
       "<table border=\"1\" class=\"dataframe\">\n",
       "  <thead>\n",
       "    <tr style=\"text-align: right;\">\n",
       "      <th></th>\n",
       "      <th>Year</th>\n",
       "      <th>Month</th>\n",
       "      <th>Sales</th>\n",
       "    </tr>\n",
       "  </thead>\n",
       "  <tbody>\n",
       "    <tr>\n",
       "      <th>0</th>\n",
       "      <td>2015</td>\n",
       "      <td>1</td>\n",
       "      <td>14205.707</td>\n",
       "    </tr>\n",
       "    <tr>\n",
       "      <th>1</th>\n",
       "      <td>2015</td>\n",
       "      <td>2</td>\n",
       "      <td>4519.892</td>\n",
       "    </tr>\n",
       "    <tr>\n",
       "      <th>2</th>\n",
       "      <td>2015</td>\n",
       "      <td>3</td>\n",
       "      <td>55205.797</td>\n",
       "    </tr>\n",
       "    <tr>\n",
       "      <th>3</th>\n",
       "      <td>2015</td>\n",
       "      <td>4</td>\n",
       "      <td>27906.855</td>\n",
       "    </tr>\n",
       "    <tr>\n",
       "      <th>4</th>\n",
       "      <td>2015</td>\n",
       "      <td>5</td>\n",
       "      <td>23644.303</td>\n",
       "    </tr>\n",
       "  </tbody>\n",
       "</table>\n",
       "</div>"
      ],
      "text/plain": [
       "   Year  Month      Sales\n",
       "0  2015      1  14205.707\n",
       "1  2015      2   4519.892\n",
       "2  2015      3  55205.797\n",
       "3  2015      4  27906.855\n",
       "4  2015      5  23644.303"
      ]
     },
     "execution_count": 26,
     "metadata": {},
     "output_type": "execute_result"
    }
   ],
   "source": [
    "base_agrp_mes.head()"
   ]
  },
  {
   "cell_type": "code",
   "execution_count": 27,
   "metadata": {},
   "outputs": [
    {
     "data": {
      "text/plain": [
       "(48, 3)"
      ]
     },
     "execution_count": 27,
     "metadata": {},
     "output_type": "execute_result"
    }
   ],
   "source": [
    "base_agrp_mes.shape"
   ]
  },
  {
   "cell_type": "code",
   "execution_count": 28,
   "metadata": {},
   "outputs": [
    {
     "data": {
      "text/plain": [
       "array([ 1,  2,  3,  4,  5,  6,  7,  8,  9, 10, 11, 12])"
      ]
     },
     "execution_count": 28,
     "metadata": {},
     "output_type": "execute_result"
    }
   ],
   "source": [
    "base_agrp_mes['Month'].unique()\n",
    "meses_numericos =base_agrp_mes['Month'].unique()\n",
    "meses_numericos"
   ]
  },
  {
   "cell_type": "code",
   "execution_count": 29,
   "metadata": {},
   "outputs": [],
   "source": [
    "base_agrp_mes['N Month'] = base_agrp_mes['Month']"
   ]
  },
  {
   "cell_type": "code",
   "execution_count": 30,
   "metadata": {},
   "outputs": [],
   "source": [
    "meses = [calendar.month_abbr[mes] for mes in base_agrp_mes['Month'].unique()]"
   ]
  },
  {
   "cell_type": "code",
   "execution_count": 31,
   "metadata": {},
   "outputs": [],
   "source": [
    "for mes in base_agrp_mes['Month']:\n",
    "    nome_mes = calendar.month_abbr[mes]\n",
    "    base_agrp_mes['Month'] = base_agrp_mes['Month'].replace(mes, nome_mes)\n",
    "    "
   ]
  },
  {
   "cell_type": "code",
   "execution_count": 32,
   "metadata": {},
   "outputs": [
    {
     "name": "stdout",
     "output_type": "stream",
     "text": [
      "<class 'pandas.core.frame.DataFrame'>\n",
      "RangeIndex: 5 entries, 43 to 47\n",
      "Data columns (total 4 columns):\n",
      " #   Column   Non-Null Count  Dtype  \n",
      "---  ------   --------------  -----  \n",
      " 0   Year     5 non-null      int32  \n",
      " 1   Month    5 non-null      object \n",
      " 2   Sales    5 non-null      float64\n",
      " 3   N Month  5 non-null      int32  \n",
      "dtypes: float64(1), int32(2), object(1)\n",
      "memory usage: 252.0+ bytes\n"
     ]
    }
   ],
   "source": [
    "base_agrp_mes.tail().info()"
   ]
  },
  {
   "cell_type": "code",
   "execution_count": 33,
   "metadata": {},
   "outputs": [
    {
     "data": {
      "text/html": [
       "<div>\n",
       "<style scoped>\n",
       "    .dataframe tbody tr th:only-of-type {\n",
       "        vertical-align: middle;\n",
       "    }\n",
       "\n",
       "    .dataframe tbody tr th {\n",
       "        vertical-align: top;\n",
       "    }\n",
       "\n",
       "    .dataframe thead th {\n",
       "        text-align: right;\n",
       "    }\n",
       "</style>\n",
       "<table border=\"1\" class=\"dataframe\">\n",
       "  <thead>\n",
       "    <tr style=\"text-align: right;\">\n",
       "      <th></th>\n",
       "      <th>Year</th>\n",
       "      <th>Month</th>\n",
       "      <th>Sales</th>\n",
       "      <th>N Month</th>\n",
       "    </tr>\n",
       "  </thead>\n",
       "  <tbody>\n",
       "    <tr>\n",
       "      <th>0</th>\n",
       "      <td>2015</td>\n",
       "      <td>Jan</td>\n",
       "      <td>14205.7070</td>\n",
       "      <td>1</td>\n",
       "    </tr>\n",
       "    <tr>\n",
       "      <th>1</th>\n",
       "      <td>2015</td>\n",
       "      <td>Feb</td>\n",
       "      <td>4519.8920</td>\n",
       "      <td>2</td>\n",
       "    </tr>\n",
       "    <tr>\n",
       "      <th>2</th>\n",
       "      <td>2015</td>\n",
       "      <td>Mar</td>\n",
       "      <td>55205.7970</td>\n",
       "      <td>3</td>\n",
       "    </tr>\n",
       "    <tr>\n",
       "      <th>3</th>\n",
       "      <td>2015</td>\n",
       "      <td>Apr</td>\n",
       "      <td>27906.8550</td>\n",
       "      <td>4</td>\n",
       "    </tr>\n",
       "    <tr>\n",
       "      <th>4</th>\n",
       "      <td>2015</td>\n",
       "      <td>May</td>\n",
       "      <td>23644.3030</td>\n",
       "      <td>5</td>\n",
       "    </tr>\n",
       "    <tr>\n",
       "      <th>5</th>\n",
       "      <td>2015</td>\n",
       "      <td>Jun</td>\n",
       "      <td>34322.9356</td>\n",
       "      <td>6</td>\n",
       "    </tr>\n",
       "    <tr>\n",
       "      <th>6</th>\n",
       "      <td>2015</td>\n",
       "      <td>Jul</td>\n",
       "      <td>33781.5430</td>\n",
       "      <td>7</td>\n",
       "    </tr>\n",
       "    <tr>\n",
       "      <th>7</th>\n",
       "      <td>2015</td>\n",
       "      <td>Aug</td>\n",
       "      <td>27117.5365</td>\n",
       "      <td>8</td>\n",
       "    </tr>\n",
       "    <tr>\n",
       "      <th>8</th>\n",
       "      <td>2015</td>\n",
       "      <td>Sep</td>\n",
       "      <td>81623.5268</td>\n",
       "      <td>9</td>\n",
       "    </tr>\n",
       "    <tr>\n",
       "      <th>9</th>\n",
       "      <td>2015</td>\n",
       "      <td>Oct</td>\n",
       "      <td>31453.3930</td>\n",
       "      <td>10</td>\n",
       "    </tr>\n",
       "    <tr>\n",
       "      <th>10</th>\n",
       "      <td>2015</td>\n",
       "      <td>Nov</td>\n",
       "      <td>77907.6607</td>\n",
       "      <td>11</td>\n",
       "    </tr>\n",
       "    <tr>\n",
       "      <th>11</th>\n",
       "      <td>2015</td>\n",
       "      <td>Dec</td>\n",
       "      <td>68167.0585</td>\n",
       "      <td>12</td>\n",
       "    </tr>\n",
       "  </tbody>\n",
       "</table>\n",
       "</div>"
      ],
      "text/plain": [
       "    Year Month       Sales  N Month\n",
       "0   2015   Jan  14205.7070        1\n",
       "1   2015   Feb   4519.8920        2\n",
       "2   2015   Mar  55205.7970        3\n",
       "3   2015   Apr  27906.8550        4\n",
       "4   2015   May  23644.3030        5\n",
       "5   2015   Jun  34322.9356        6\n",
       "6   2015   Jul  33781.5430        7\n",
       "7   2015   Aug  27117.5365        8\n",
       "8   2015   Sep  81623.5268        9\n",
       "9   2015   Oct  31453.3930       10\n",
       "10  2015   Nov  77907.6607       11\n",
       "11  2015   Dec  68167.0585       12"
      ]
     },
     "execution_count": 33,
     "metadata": {},
     "output_type": "execute_result"
    }
   ],
   "source": [
    "df = base_agrp_mes.loc[base_agrp_mes['Year'] == 2015]\n",
    "df"
   ]
  },
  {
   "cell_type": "code",
   "execution_count": 34,
   "metadata": {
    "id": "W0dZuIH0ftAo"
   },
   "outputs": [
    {
     "data": {
      "image/png": "[encoded data removed]",
      "text/plain": [
       "<Figure size 1000x600 with 4 Axes>"
      ]
     },
     "metadata": {},
     "output_type": "display_data"
    }
   ],
   "source": [
    "cores = plt.cm.Set3.colors # alterando o ciclo de cores\n",
    "\n",
    "espacamento = {'wspace': 0.5, 'hspace': 0.5}\n",
    "\n",
    "mosaico_orgin = 'AB;CD'\n",
    "mosaico = 'ABCD'\n",
    "\n",
    "fig = plt.figure(figsize = (10,6))\n",
    "axs =  fig.subplot_mosaic(mosaico_orgin, gridspec_kw= espacamento)\n",
    "\n",
    "for i, grafico in enumerate(mosaico):\n",
    "\n",
    "    df = base_agrp_mes.loc[base_agrp_mes['Year'] == anos[i]]\n",
    "    barras = axs[grafico].bar(df['Month'], df['Sales'], color = cores[i], width = 0.65)\n",
    "\n",
    "    axs[grafico].set_title(f\"Vendas mensal no Ano de: {anos[i]}\\n\",fontsize=10,fontweight='bold',color=cores[i])\n",
    "    \n",
    "    rotulos =  [f\"{venda:,.0f}\".split(',')[0] for venda in df['Sales']]\n",
    "    axs[grafico].bar_label(barras, labels= rotulos, label_type='edge', padding= 5, fontweight = 'bold', color = 'black', fontsize = 8)\n",
    "\n",
    "\n",
    "    # eixos \n",
    "    \n",
    "    axs[grafico].xaxis.set_ticks(meses)\n",
    "    axs[grafico].set_xticklabels(labels = meses, fontweight = 'bold', fontsize = 7)\n",
    "    axs[grafico].tick_params(axis = 'x', length = 0)\n",
    "    \n",
    "    axs[grafico].yaxis.set_visible(False)\n",
    "    \n",
    "    # barras \n",
    "\n",
    "    axs[grafico].set_frame_on(False)\n",
    "    \n",
    "    \n",
    "plt.show()"
   ]
  },
  {
   "cell_type": "code",
   "execution_count": 35,
   "metadata": {},
   "outputs": [
    {
     "data": {
      "image/png": "[encoded data removed]",
      "text/plain": [
       "<Figure size 1300x600 with 1 Axes>"
      ]
     },
     "metadata": {},
     "output_type": "display_data"
    }
   ],
   "source": [
    "cores = plt.cm.Set3.colors # alterando o ciclo de cores\n",
    "\n",
    "espacamento = {'wspace': 0.5, 'hspace': 0.5}\n",
    "\n",
    "desloc = np.array([-0.65, -0.25, 0.15, 0.55])\n",
    "\n",
    "mosaico = 'ABCD' \n",
    "\n",
    "fig = plt.figure(figsize = (13,6))\n",
    "axs =  fig.subplot_mosaic('A', gridspec_kw= espacamento)\n",
    "\n",
    "for i, grafico in enumerate(mosaico):\n",
    "\n",
    "    df = base_agrp_mes.loc[base_agrp_mes['Year'] == anos[i]]\n",
    "\n",
    "    barras = axs['A'].bar(df['N Month'] + desloc[i]/2, df['Sales'], color = cores[i], width = 0.2, label = anos[i])\n",
    "\n",
    "    rotulos =  [f\"{venda:,.0f}\".split(',')[0] for venda in df['Sales']]\n",
    "    axs['A'].bar_label(barras, labels= rotulos, label_type='edge', padding= 5, fontweight = 'bold', color = 'black', fontsize = 8)\n",
    "\n",
    "axs['A'].set_title(\"Vendas mensais ao longo dos anos\", fontsize=16 ,fontweight='bold',color= 'black')\n",
    "\n",
    "\n",
    "# eixos \n",
    "\n",
    "axs['A'].xaxis.set_ticks(meses_numericos)\n",
    "axs['A'].set_xticklabels(labels = meses, fontweight = 'bold', fontsize = 8)\n",
    "axs['A'].tick_params(axis = 'both', length = 0)\n",
    "\n",
    "axs['A'].set_ylabel('Valor em Milhares (K)', color = 'black',fontweight = 'bold')\n",
    "axs['A'].set_yticks([])\n",
    "\n",
    "# barras \n",
    "\n",
    "axs['A'].set_frame_on(False)\n",
    "\n",
    "legenda = axs['A'].legend(loc='upper right', bbox_to_anchor=(0, 1.01)).get_frame()\n",
    "\n",
    "\n",
    "\n",
    "legenda.set_facecolor('white')  # Cor de fundo\n",
    "legenda.set_linewidth(2)  # Largura da borda\n",
    "legenda.set_alpha(0.5)   # Transparência\n",
    "    \n",
    "plt.show()"
   ]
  },
  {
   "cell_type": "code",
   "execution_count": 36,
   "metadata": {
    "id": "OGsXMYnbftAq"
   },
   "outputs": [
    {
     "data": {
      "text/html": [
       "<div>\n",
       "<style scoped>\n",
       "    .dataframe tbody tr th:only-of-type {\n",
       "        vertical-align: middle;\n",
       "    }\n",
       "\n",
       "    .dataframe tbody tr th {\n",
       "        vertical-align: top;\n",
       "    }\n",
       "\n",
       "    .dataframe thead th {\n",
       "        text-align: right;\n",
       "    }\n",
       "</style>\n",
       "<table border=\"1\" class=\"dataframe\">\n",
       "  <thead>\n",
       "    <tr style=\"text-align: right;\">\n",
       "      <th></th>\n",
       "      <th>Category</th>\n",
       "      <th>Sales</th>\n",
       "    </tr>\n",
       "  </thead>\n",
       "  <tbody>\n",
       "    <tr>\n",
       "      <th>0</th>\n",
       "      <td>Furniture</td>\n",
       "      <td>728658.5757</td>\n",
       "    </tr>\n",
       "    <tr>\n",
       "      <th>1</th>\n",
       "      <td>Office Supplies</td>\n",
       "      <td>705422.3340</td>\n",
       "    </tr>\n",
       "    <tr>\n",
       "      <th>2</th>\n",
       "      <td>Technology</td>\n",
       "      <td>827455.8730</td>\n",
       "    </tr>\n",
       "  </tbody>\n",
       "</table>\n",
       "</div>"
      ],
      "text/plain": [
       "          Category        Sales\n",
       "0        Furniture  728658.5757\n",
       "1  Office Supplies  705422.3340\n",
       "2       Technology  827455.8730"
      ]
     },
     "execution_count": 36,
     "metadata": {},
     "output_type": "execute_result"
    }
   ],
   "source": [
    "# groupby da categoria\n",
    "\n",
    "df_categoria = base.groupby('Category')['Sales'].sum().to_frame().reset_index()\n",
    "\n",
    "df_categoria"
   ]
  },
  {
   "cell_type": "markdown",
   "metadata": {
    "id": "xFEIuELsftAq"
   },
   "source": [
    "**Como estamos falando de 4 anos diferentes, seria interessante entender como foram essas categorias em cada um dos anos**"
   ]
  },
  {
   "cell_type": "code",
   "execution_count": 38,
   "metadata": {
    "id": "DLh2NnfqftAq"
   },
   "outputs": [
    {
     "data": {
      "text/html": [
       "<div>\n",
       "<style scoped>\n",
       "    .dataframe tbody tr th:only-of-type {\n",
       "        vertical-align: middle;\n",
       "    }\n",
       "\n",
       "    .dataframe tbody tr th {\n",
       "        vertical-align: top;\n",
       "    }\n",
       "\n",
       "    .dataframe thead th {\n",
       "        text-align: right;\n",
       "    }\n",
       "</style>\n",
       "<table border=\"1\" class=\"dataframe\">\n",
       "  <thead>\n",
       "    <tr style=\"text-align: right;\">\n",
       "      <th></th>\n",
       "      <th>Category</th>\n",
       "      <th>Year</th>\n",
       "      <th>Sales</th>\n",
       "    </tr>\n",
       "  </thead>\n",
       "  <tbody>\n",
       "    <tr>\n",
       "      <th>0</th>\n",
       "      <td>Furniture</td>\n",
       "      <td>2015</td>\n",
       "      <td>156477.8811</td>\n",
       "    </tr>\n",
       "    <tr>\n",
       "      <th>1</th>\n",
       "      <td>Furniture</td>\n",
       "      <td>2016</td>\n",
       "      <td>164053.8674</td>\n",
       "    </tr>\n",
       "    <tr>\n",
       "      <th>2</th>\n",
       "      <td>Furniture</td>\n",
       "      <td>2017</td>\n",
       "      <td>195813.0400</td>\n",
       "    </tr>\n",
       "    <tr>\n",
       "      <th>3</th>\n",
       "      <td>Furniture</td>\n",
       "      <td>2018</td>\n",
       "      <td>212313.7872</td>\n",
       "    </tr>\n",
       "    <tr>\n",
       "      <th>4</th>\n",
       "      <td>Office Supplies</td>\n",
       "      <td>2015</td>\n",
       "      <td>149512.8200</td>\n",
       "    </tr>\n",
       "    <tr>\n",
       "      <th>5</th>\n",
       "      <td>Office Supplies</td>\n",
       "      <td>2016</td>\n",
       "      <td>133124.4070</td>\n",
       "    </tr>\n",
       "    <tr>\n",
       "      <th>6</th>\n",
       "      <td>Office Supplies</td>\n",
       "      <td>2017</td>\n",
       "      <td>182417.5660</td>\n",
       "    </tr>\n",
       "    <tr>\n",
       "      <th>7</th>\n",
       "      <td>Office Supplies</td>\n",
       "      <td>2018</td>\n",
       "      <td>240367.5410</td>\n",
       "    </tr>\n",
       "    <tr>\n",
       "      <th>8</th>\n",
       "      <td>Technology</td>\n",
       "      <td>2015</td>\n",
       "      <td>173865.5070</td>\n",
       "    </tr>\n",
       "    <tr>\n",
       "      <th>9</th>\n",
       "      <td>Technology</td>\n",
       "      <td>2016</td>\n",
       "      <td>162257.7310</td>\n",
       "    </tr>\n",
       "    <tr>\n",
       "      <th>10</th>\n",
       "      <td>Technology</td>\n",
       "      <td>2017</td>\n",
       "      <td>221961.9440</td>\n",
       "    </tr>\n",
       "    <tr>\n",
       "      <th>11</th>\n",
       "      <td>Technology</td>\n",
       "      <td>2018</td>\n",
       "      <td>269370.6910</td>\n",
       "    </tr>\n",
       "  </tbody>\n",
       "</table>\n",
       "</div>"
      ],
      "text/plain": [
       "           Category  Year        Sales\n",
       "0         Furniture  2015  156477.8811\n",
       "1         Furniture  2016  164053.8674\n",
       "2         Furniture  2017  195813.0400\n",
       "3         Furniture  2018  212313.7872\n",
       "4   Office Supplies  2015  149512.8200\n",
       "5   Office Supplies  2016  133124.4070\n",
       "6   Office Supplies  2017  182417.5660\n",
       "7   Office Supplies  2018  240367.5410\n",
       "8        Technology  2015  173865.5070\n",
       "9        Technology  2016  162257.7310\n",
       "10       Technology  2017  221961.9440\n",
       "11       Technology  2018  269370.6910"
      ]
     },
     "execution_count": 38,
     "metadata": {},
     "output_type": "execute_result"
    }
   ],
   "source": [
    "# Agrupando por ano e categoria\n",
    "\n",
    "df_categoria_ano = base.groupby(['Category', 'Year'])['Sales'].sum().to_frame().reset_index()\n",
    "\n",
    "df_categoria_ano"
   ]
  },
  {
   "cell_type": "code",
   "execution_count": 39,
   "metadata": {
    "id": "6p4fK1f1ftAq"
   },
   "outputs": [
    {
     "data": {
      "image/png": "[encoded data removed]",
      "text/plain": [
       "<Figure size 400x400 with 1 Axes>"
      ]
     },
     "metadata": {},
     "output_type": "display_data"
    }
   ],
   "source": [
    "    cores = plt.cm.Set3.colors # alterando o ciclo de cores\n",
    "    \n",
    "    fig = plt.figure(figsize = (4,4))\n",
    "    axs =  fig.subplot_mosaic('A')\n",
    "    \n",
    "    df_categoria = df_categoria.sort_values(by = 'Sales')\n",
    "    barras = axs['A'].barh(df_categoria['Category'], df_categoria['Sales'], color = cores[5] , height=0.4)\n",
    "    \n",
    "    axs['A'].set_title(\"Vendas por Categoria \\n\",fontsize=16,fontweight='bold',color=cores[5])\n",
    "    \n",
    "    rotulos =  [f\"{venda:,.0f}\".split(',')[0] + \"K\"   for venda in df_categoria['Sales']]\n",
    "    axs['A'].bar_label(barras, labels= rotulos, label_type='edge', padding= 5, fontweight = 'bold', color = cores[5])\n",
    "    \n",
    "    \n",
    "    # eixos \n",
    "    \n",
    "    axs['A'].yaxis.set_ticks(df_categoria['Category'])\n",
    "    axs['A'].set_yticklabels(labels = df_categoria['Category'], fontweight = 'bold', fontsize = 10)\n",
    "    axs['A'].tick_params(axis = 'both', length = 0)\n",
    "    \n",
    "    axs['A'].xaxis.set_visible(False)\n",
    "    \n",
    "    # barras \n",
    "    \n",
    "    for i in range(2):\n",
    "    \n",
    "        barras[i].set_color(cores[5])\n",
    "        barras[i].set_alpha(0.4)\n",
    "    \n",
    "    # axs['A'].grid(True, axis= 'x', color = 'Darkgray', alpha = 0.1)\n",
    "    \n",
    "    axs['A'].set_frame_on(False)\n",
    "    \n",
    "    \n",
    "    plt.show()"
   ]
  },
  {
   "cell_type": "code",
   "execution_count": 40,
   "metadata": {},
   "outputs": [
    {
     "data": {
      "text/plain": [
       "<bound method DataFrame.sort_index of            Category  Year        Sales\n",
       "0         Furniture  2015  156477.8811\n",
       "1         Furniture  2016  164053.8674\n",
       "2         Furniture  2017  195813.0400\n",
       "3         Furniture  2018  212313.7872\n",
       "4   Office Supplies  2015  149512.8200\n",
       "5   Office Supplies  2016  133124.4070\n",
       "6   Office Supplies  2017  182417.5660\n",
       "7   Office Supplies  2018  240367.5410\n",
       "8        Technology  2015  173865.5070\n",
       "9        Technology  2016  162257.7310\n",
       "10       Technology  2017  221961.9440\n",
       "11       Technology  2018  269370.6910>"
      ]
     },
     "execution_count": 40,
     "metadata": {},
     "output_type": "execute_result"
    }
   ],
   "source": [
    "df_categoria_ano.sort_index"
   ]
  },
  {
   "cell_type": "code",
   "execution_count": 41,
   "metadata": {},
   "outputs": [
    {
     "data": {
      "text/html": [
       "<div>\n",
       "<style scoped>\n",
       "    .dataframe tbody tr th:only-of-type {\n",
       "        vertical-align: middle;\n",
       "    }\n",
       "\n",
       "    .dataframe tbody tr th {\n",
       "        vertical-align: top;\n",
       "    }\n",
       "\n",
       "    .dataframe thead th {\n",
       "        text-align: right;\n",
       "    }\n",
       "</style>\n",
       "<table border=\"1\" class=\"dataframe\">\n",
       "  <thead>\n",
       "    <tr style=\"text-align: right;\">\n",
       "      <th></th>\n",
       "      <th>Category</th>\n",
       "      <th>Year</th>\n",
       "      <th>Sales</th>\n",
       "    </tr>\n",
       "  </thead>\n",
       "  <tbody>\n",
       "    <tr>\n",
       "      <th>0</th>\n",
       "      <td>Furniture</td>\n",
       "      <td>2015</td>\n",
       "      <td>156477.8811</td>\n",
       "    </tr>\n",
       "    <tr>\n",
       "      <th>1</th>\n",
       "      <td>Furniture</td>\n",
       "      <td>2016</td>\n",
       "      <td>164053.8674</td>\n",
       "    </tr>\n",
       "    <tr>\n",
       "      <th>2</th>\n",
       "      <td>Furniture</td>\n",
       "      <td>2017</td>\n",
       "      <td>195813.0400</td>\n",
       "    </tr>\n",
       "    <tr>\n",
       "      <th>3</th>\n",
       "      <td>Furniture</td>\n",
       "      <td>2018</td>\n",
       "      <td>212313.7872</td>\n",
       "    </tr>\n",
       "  </tbody>\n",
       "</table>\n",
       "</div>"
      ],
      "text/plain": [
       "    Category  Year        Sales\n",
       "0  Furniture  2015  156477.8811\n",
       "1  Furniture  2016  164053.8674\n",
       "2  Furniture  2017  195813.0400\n",
       "3  Furniture  2018  212313.7872"
      ]
     },
     "execution_count": 41,
     "metadata": {},
     "output_type": "execute_result"
    }
   ],
   "source": [
    "df_categoria_ano.loc[df_categoria_ano['Category'] == df_categoria_ano['Category'].unique()[0]]"
   ]
  },
  {
   "cell_type": "code",
   "execution_count": 42,
   "metadata": {
    "id": "T6TDDHpnftAq"
   },
   "outputs": [
    {
     "data": {
      "image/png": "[encoded data removed]",
      "text/plain": [
       "<Figure size 1000x600 with 1 Axes>"
      ]
     },
     "metadata": {},
     "output_type": "display_data"
    }
   ],
   "source": [
    "cores = plt.cm.Set3.colors # alterando o ciclo de cores\n",
    "\n",
    "espacamento = {'wspace': 0.5, 'hspace': 0.5}\n",
    "\n",
    "desloc = np.array([-0.05, -0.25, 0.15])\n",
    "\n",
    "mosaico = 'ABC' \n",
    "\n",
    "fig = plt.figure(figsize = (10,6))\n",
    "axs =  fig.subplot_mosaic('A', gridspec_kw= espacamento)\n",
    "\n",
    "for i, grafico in enumerate(mosaico):\n",
    "\n",
    "    categoria = df_categoria_ano['Category'].unique()[i]\n",
    "    df = df_categoria_ano.loc[df_categoria_ano['Category'] == categoria]\n",
    "\n",
    "    barras = axs['A'].bar(df['Year'] + desloc[i], df['Sales'], color = cores[i+1], width = 0.2, label = categoria)\n",
    "\n",
    "    rotulos =  [f\"{venda:,.0f}\".split(',')[0] for venda in df['Sales']]\n",
    "    axs['A'].bar_label(barras, labels= rotulos, label_type='edge', padding= 5, fontweight = 'bold', color = 'black', fontsize = 8)\n",
    "\n",
    "axs['A'].set_title(\"Vendas ao longo dos anos \\n por Categoria\", fontsize=16 ,fontweight='bold',color= 'black')\n",
    "\n",
    "\n",
    "# eixos \n",
    "\n",
    "axs['A'].xaxis.set_ticks(anos)\n",
    "axs['A'].set_xticklabels(labels = anos, fontweight = 'bold', fontsize = 10)\n",
    "axs['A'].tick_params(axis = 'both', length = 0)\n",
    "\n",
    "axs['A'].set_ylabel('Valor em Milhares (K)', color = 'black',fontweight = 'bold', fontsize = 12)\n",
    "axs['A'].set_yticks([])\n",
    "\n",
    "\n",
    "axs['A'].set_frame_on(False)\n",
    "\n",
    "legenda = axs['A'].legend(loc='center', bbox_to_anchor=(0, 1.01)).get_frame()\n",
    "\n",
    "\n",
    "\n",
    "legenda.set_facecolor('white')  # Cor de fundo\n",
    "legenda.set_linewidth(2)  # Largura da borda\n",
    "legenda.set_alpha(0.5)   # Transparência\n",
    "\n",
    "    \n",
    "plt.show()"
   ]
  },
  {
   "cell_type": "code",
   "execution_count": 43,
   "metadata": {},
   "outputs": [
    {
     "data": {
      "text/plain": [
       "Index(['Row ID', 'Order ID', 'Order Date', 'Ship Date', 'Ship Mode',\n",
       "       'Customer ID', 'Customer Name', 'Segment', 'Country', 'City', 'State',\n",
       "       'Postal Code', 'Region', 'Product ID', 'Category', 'Sub-Category',\n",
       "       'Product Name', 'Sales', 'Year', 'Month'],\n",
       "      dtype='object')"
      ]
     },
     "execution_count": 43,
     "metadata": {},
     "output_type": "execute_result"
    }
   ],
   "source": [
    "base.columns"
   ]
  },
  {
   "cell_type": "code",
   "execution_count": 44,
   "metadata": {
    "id": "T1d1I1_1ftAr"
   },
   "outputs": [
    {
     "data": {
      "text/html": [
       "<div>\n",
       "<style scoped>\n",
       "    .dataframe tbody tr th:only-of-type {\n",
       "        vertical-align: middle;\n",
       "    }\n",
       "\n",
       "    .dataframe tbody tr th {\n",
       "        vertical-align: top;\n",
       "    }\n",
       "\n",
       "    .dataframe thead th {\n",
       "        text-align: right;\n",
       "    }\n",
       "</style>\n",
       "<table border=\"1\" class=\"dataframe\">\n",
       "  <thead>\n",
       "    <tr style=\"text-align: right;\">\n",
       "      <th></th>\n",
       "      <th>Product ID</th>\n",
       "      <th>Sales</th>\n",
       "    </tr>\n",
       "  </thead>\n",
       "  <tbody>\n",
       "    <tr>\n",
       "      <th>0</th>\n",
       "      <td>TEC-CO-10004722</td>\n",
       "      <td>61599.824</td>\n",
       "    </tr>\n",
       "  </tbody>\n",
       "</table>\n",
       "</div>"
      ],
      "text/plain": [
       "        Product ID      Sales\n",
       "0  TEC-CO-10004722  61599.824"
      ]
     },
     "execution_count": 44,
     "metadata": {},
     "output_type": "execute_result"
    }
   ],
   "source": [
    "# Análises SKU - top 10 itens mais vendidos\n",
    "\n",
    "df_sku_10 = (base.groupby('Product ID')['Sales'].sum()).sort_values(ascending= False).to_frame().reset_index().head(10)\n",
    "\n",
    "df_sku_10.head(1)"
   ]
  },
  {
   "cell_type": "code",
   "execution_count": 45,
   "metadata": {},
   "outputs": [
    {
     "name": "stdout",
     "output_type": "stream",
     "text": [
      "   A  B\n",
      "1  1  4\n",
      "2  2  5\n",
      "3  3  6\n"
     ]
    },
    {
     "data": {
      "text/html": [
       "<div>\n",
       "<style scoped>\n",
       "    .dataframe tbody tr th:only-of-type {\n",
       "        vertical-align: middle;\n",
       "    }\n",
       "\n",
       "    .dataframe tbody tr th {\n",
       "        vertical-align: top;\n",
       "    }\n",
       "\n",
       "    .dataframe thead th {\n",
       "        text-align: right;\n",
       "    }\n",
       "</style>\n",
       "<table border=\"1\" class=\"dataframe\">\n",
       "  <thead>\n",
       "    <tr style=\"text-align: right;\">\n",
       "      <th></th>\n",
       "      <th>Product ID</th>\n",
       "      <th>Sales</th>\n",
       "    </tr>\n",
       "  </thead>\n",
       "  <tbody>\n",
       "    <tr>\n",
       "      <th>1</th>\n",
       "      <td>TEC-CO-10004722</td>\n",
       "      <td>61599.824</td>\n",
       "    </tr>\n",
       "    <tr>\n",
       "      <th>2</th>\n",
       "      <td>OFF-BI-10003527</td>\n",
       "      <td>27453.384</td>\n",
       "    </tr>\n",
       "    <tr>\n",
       "      <th>3</th>\n",
       "      <td>TEC-MA-10002412</td>\n",
       "      <td>22638.480</td>\n",
       "    </tr>\n",
       "    <tr>\n",
       "      <th>4</th>\n",
       "      <td>FUR-CH-10002024</td>\n",
       "      <td>21870.576</td>\n",
       "    </tr>\n",
       "    <tr>\n",
       "      <th>5</th>\n",
       "      <td>OFF-BI-10001359</td>\n",
       "      <td>19823.479</td>\n",
       "    </tr>\n",
       "    <tr>\n",
       "      <th>6</th>\n",
       "      <td>OFF-BI-10000545</td>\n",
       "      <td>19024.500</td>\n",
       "    </tr>\n",
       "    <tr>\n",
       "      <th>7</th>\n",
       "      <td>TEC-CO-10001449</td>\n",
       "      <td>18839.686</td>\n",
       "    </tr>\n",
       "    <tr>\n",
       "      <th>8</th>\n",
       "      <td>TEC-MA-10001127</td>\n",
       "      <td>18374.895</td>\n",
       "    </tr>\n",
       "    <tr>\n",
       "      <th>9</th>\n",
       "      <td>OFF-BI-10004995</td>\n",
       "      <td>17965.068</td>\n",
       "    </tr>\n",
       "    <tr>\n",
       "      <th>10</th>\n",
       "      <td>OFF-SU-10000151</td>\n",
       "      <td>17030.312</td>\n",
       "    </tr>\n",
       "  </tbody>\n",
       "</table>\n",
       "</div>"
      ],
      "text/plain": [
       "         Product ID      Sales\n",
       "1   TEC-CO-10004722  61599.824\n",
       "2   OFF-BI-10003527  27453.384\n",
       "3   TEC-MA-10002412  22638.480\n",
       "4   FUR-CH-10002024  21870.576\n",
       "5   OFF-BI-10001359  19823.479\n",
       "6   OFF-BI-10000545  19024.500\n",
       "7   TEC-CO-10001449  18839.686\n",
       "8   TEC-MA-10001127  18374.895\n",
       "9   OFF-BI-10004995  17965.068\n",
       "10  OFF-SU-10000151  17030.312"
      ]
     },
     "execution_count": 45,
     "metadata": {},
     "output_type": "execute_result"
    }
   ],
   "source": [
    "from Funções import reset_index_from_one\n",
    "\n",
    "df_sku_10 =reset_index_from_one(df_sku_10, drop = True)\n",
    "df_sku_10"
   ]
  },
  {
   "cell_type": "code",
   "execution_count": 46,
   "metadata": {
    "id": "zpIvfP2RftAr"
   },
   "outputs": [
    {
     "data": {
      "image/png": "[encoded data removed]",
      "text/plain": [
       "<Figure size 800x600 with 1 Axes>"
      ]
     },
     "metadata": {},
     "output_type": "display_data"
    }
   ],
   "source": [
    "cores = plt.cm.Paired.colors # alterando o ciclo de cores\n",
    "\n",
    "fig = plt.figure(figsize = (8,6))\n",
    "axs =  fig.subplot_mosaic('A')\n",
    "\n",
    "barras = axs['A'].barh(df_sku_10['Product ID'], df_sku_10['Sales'], color = cores[1] , height=0.8)\n",
    "\n",
    "axs['A'].set_title(\"Top N produtos \\n\",fontsize=16,fontweight='bold',color=cores[1])\n",
    "\n",
    "rotulos =  [f\"{venda:,.0f}\".split(',')[0] + \"K\"   for venda in df_sku_10['Sales']]\n",
    "axs['A'].bar_label(barras, labels= rotulos, label_type='edge', padding= 5, fontweight = 'bold', color = cores[1])\n",
    "\n",
    "\n",
    "# eixos \n",
    "\n",
    "axs['A'].yaxis.set_ticks(df_sku_10['Product ID'])\n",
    "axs['A'].set_yticklabels(labels = df_sku_10['Product ID'], fontweight = 'bold', fontsize = 10)\n",
    "axs['A'].tick_params(axis = 'both', length = 0)\n",
    "\n",
    "axs['A'].invert_yaxis()\n",
    "\n",
    "axs['A'].xaxis.set_visible(False)\n",
    "\n",
    "# axs['A'].grid(True, axis= 'x', color = 'Darkgray', alpha = 0.1)\n",
    "\n",
    "axs['A'].set_frame_on(False)\n",
    "\n",
    "\n",
    "plt.show()"
   ]
  },
  {
   "cell_type": "code",
   "execution_count": 47,
   "metadata": {},
   "outputs": [
    {
     "data": {
      "text/html": [
       "<div>\n",
       "<style scoped>\n",
       "    .dataframe tbody tr th:only-of-type {\n",
       "        vertical-align: middle;\n",
       "    }\n",
       "\n",
       "    .dataframe tbody tr th {\n",
       "        vertical-align: top;\n",
       "    }\n",
       "\n",
       "    .dataframe thead th {\n",
       "        text-align: right;\n",
       "    }\n",
       "</style>\n",
       "<table border=\"1\" class=\"dataframe\">\n",
       "  <thead>\n",
       "    <tr style=\"text-align: right;\">\n",
       "      <th></th>\n",
       "      <th>Year</th>\n",
       "      <th>On</th>\n",
       "    </tr>\n",
       "  </thead>\n",
       "  <tbody>\n",
       "    <tr>\n",
       "      <th>0</th>\n",
       "      <td>2018</td>\n",
       "      <td>On</td>\n",
       "    </tr>\n",
       "    <tr>\n",
       "      <th>1</th>\n",
       "      <td>2017</td>\n",
       "      <td>On</td>\n",
       "    </tr>\n",
       "    <tr>\n",
       "      <th>2</th>\n",
       "      <td>2016</td>\n",
       "      <td>On</td>\n",
       "    </tr>\n",
       "    <tr>\n",
       "      <th>3</th>\n",
       "      <td>2015</td>\n",
       "      <td>On</td>\n",
       "    </tr>\n",
       "  </tbody>\n",
       "</table>\n",
       "</div>"
      ],
      "text/plain": [
       "   Year  On\n",
       "0  2018  On\n",
       "1  2017  On\n",
       "2  2016  On\n",
       "3  2015  On"
      ]
     },
     "execution_count": 47,
     "metadata": {},
     "output_type": "execute_result"
    }
   ],
   "source": [
    "df_datas = pd.DataFrame(\n",
    "    {\n",
    "        'Year': [2018,2017,2016,2015],\n",
    "        'On' : 'On'\n",
    "    }\n",
    ")\n",
    "df_datas\n",
    "\n",
    "#df_sku_10 = (base.groupby(['Product ID', 'Year'])['Sales'].sum()).sort_values(ascending= False).to_frame().reset_index().head(10)\n",
    "df_datas"
   ]
  },
  {
   "cell_type": "code",
   "execution_count": 48,
   "metadata": {},
   "outputs": [],
   "source": [
    "df_sku_10['On'] = 'On'"
   ]
  },
  {
   "cell_type": "code",
   "execution_count": 49,
   "metadata": {},
   "outputs": [],
   "source": [
    "df_on = pd.merge(\n",
    "    df_sku_10,\n",
    "    df_datas,\n",
    "    on = 'On',\n",
    "    how = 'outer'\n",
    ")"
   ]
  },
  {
   "cell_type": "code",
   "execution_count": 50,
   "metadata": {},
   "outputs": [
    {
     "data": {
      "text/html": [
       "<div>\n",
       "<style scoped>\n",
       "    .dataframe tbody tr th:only-of-type {\n",
       "        vertical-align: middle;\n",
       "    }\n",
       "\n",
       "    .dataframe tbody tr th {\n",
       "        vertical-align: top;\n",
       "    }\n",
       "\n",
       "    .dataframe thead th {\n",
       "        text-align: right;\n",
       "    }\n",
       "</style>\n",
       "<table border=\"1\" class=\"dataframe\">\n",
       "  <thead>\n",
       "    <tr style=\"text-align: right;\">\n",
       "      <th></th>\n",
       "      <th>Product ID</th>\n",
       "      <th>Sales</th>\n",
       "      <th>On</th>\n",
       "      <th>Year</th>\n",
       "    </tr>\n",
       "  </thead>\n",
       "  <tbody>\n",
       "    <tr>\n",
       "      <th>0</th>\n",
       "      <td>TEC-CO-10004722</td>\n",
       "      <td>61599.824</td>\n",
       "      <td>On</td>\n",
       "      <td>2018</td>\n",
       "    </tr>\n",
       "  </tbody>\n",
       "</table>\n",
       "</div>"
      ],
      "text/plain": [
       "        Product ID      Sales  On  Year\n",
       "0  TEC-CO-10004722  61599.824  On  2018"
      ]
     },
     "execution_count": 50,
     "metadata": {},
     "output_type": "execute_result"
    }
   ],
   "source": [
    "df_on.head(1)"
   ]
  },
  {
   "cell_type": "code",
   "execution_count": 51,
   "metadata": {},
   "outputs": [
    {
     "data": {
      "text/html": [
       "<div>\n",
       "<style scoped>\n",
       "    .dataframe tbody tr th:only-of-type {\n",
       "        vertical-align: middle;\n",
       "    }\n",
       "\n",
       "    .dataframe tbody tr th {\n",
       "        vertical-align: top;\n",
       "    }\n",
       "\n",
       "    .dataframe thead th {\n",
       "        text-align: right;\n",
       "    }\n",
       "</style>\n",
       "<table border=\"1\" class=\"dataframe\">\n",
       "  <thead>\n",
       "    <tr style=\"text-align: right;\">\n",
       "      <th></th>\n",
       "      <th>Product ID</th>\n",
       "      <th>Year</th>\n",
       "      <th>Sales</th>\n",
       "    </tr>\n",
       "  </thead>\n",
       "  <tbody>\n",
       "    <tr>\n",
       "      <th>0</th>\n",
       "      <td>TEC-CO-10004722</td>\n",
       "      <td>2018</td>\n",
       "      <td>35699.898</td>\n",
       "    </tr>\n",
       "    <tr>\n",
       "      <th>1</th>\n",
       "      <td>TEC-CO-10004722</td>\n",
       "      <td>2017</td>\n",
       "      <td>25899.926</td>\n",
       "    </tr>\n",
       "    <tr>\n",
       "      <th>2</th>\n",
       "      <td>TEC-MA-10002412</td>\n",
       "      <td>2015</td>\n",
       "      <td>22638.480</td>\n",
       "    </tr>\n",
       "    <tr>\n",
       "      <th>3</th>\n",
       "      <td>OFF-BI-10003527</td>\n",
       "      <td>2016</td>\n",
       "      <td>15760.276</td>\n",
       "    </tr>\n",
       "    <tr>\n",
       "      <th>4</th>\n",
       "      <td>OFF-BI-10000545</td>\n",
       "      <td>2017</td>\n",
       "      <td>12860.562</td>\n",
       "    </tr>\n",
       "    <tr>\n",
       "      <th>...</th>\n",
       "      <td>...</td>\n",
       "      <td>...</td>\n",
       "      <td>...</td>\n",
       "    </tr>\n",
       "    <tr>\n",
       "      <th>5310</th>\n",
       "      <td>OFF-BI-10001267</td>\n",
       "      <td>2015</td>\n",
       "      <td>1.234</td>\n",
       "    </tr>\n",
       "    <tr>\n",
       "      <th>5311</th>\n",
       "      <td>OFF-BI-10000591</td>\n",
       "      <td>2015</td>\n",
       "      <td>1.167</td>\n",
       "    </tr>\n",
       "    <tr>\n",
       "      <th>5312</th>\n",
       "      <td>OFF-BI-10000494</td>\n",
       "      <td>2015</td>\n",
       "      <td>1.044</td>\n",
       "    </tr>\n",
       "    <tr>\n",
       "      <th>5313</th>\n",
       "      <td>OFF-BI-10000201</td>\n",
       "      <td>2016</td>\n",
       "      <td>0.984</td>\n",
       "    </tr>\n",
       "    <tr>\n",
       "      <th>5314</th>\n",
       "      <td>OFF-BI-10003529</td>\n",
       "      <td>2015</td>\n",
       "      <td>0.852</td>\n",
       "    </tr>\n",
       "  </tbody>\n",
       "</table>\n",
       "<p>5315 rows × 3 columns</p>\n",
       "</div>"
      ],
      "text/plain": [
       "           Product ID  Year      Sales\n",
       "0     TEC-CO-10004722  2018  35699.898\n",
       "1     TEC-CO-10004722  2017  25899.926\n",
       "2     TEC-MA-10002412  2015  22638.480\n",
       "3     OFF-BI-10003527  2016  15760.276\n",
       "4     OFF-BI-10000545  2017  12860.562\n",
       "...               ...   ...        ...\n",
       "5310  OFF-BI-10001267  2015      1.234\n",
       "5311  OFF-BI-10000591  2015      1.167\n",
       "5312  OFF-BI-10000494  2015      1.044\n",
       "5313  OFF-BI-10000201  2016      0.984\n",
       "5314  OFF-BI-10003529  2015      0.852\n",
       "\n",
       "[5315 rows x 3 columns]"
      ]
     },
     "execution_count": 51,
     "metadata": {},
     "output_type": "execute_result"
    }
   ],
   "source": [
    "\n",
    "df_sku_ano = (base.groupby(['Product ID','Year'])['Sales'].sum()).sort_values(ascending= False).to_frame().reset_index()\n",
    "\n",
    "df_sku_ano"
   ]
  },
  {
   "cell_type": "code",
   "execution_count": 52,
   "metadata": {},
   "outputs": [],
   "source": [
    "df_on_final = pd.merge(\n",
    "    df_on,\n",
    "    df_sku_ano,\n",
    "    on = ['Year','Product ID'],\n",
    "    how = 'left'\n",
    ")"
   ]
  },
  {
   "cell_type": "code",
   "execution_count": 53,
   "metadata": {},
   "outputs": [],
   "source": [
    "df_on_final = df_on_final.drop(columns = ['On', 'Sales_x'])"
   ]
  },
  {
   "cell_type": "code",
   "execution_count": 54,
   "metadata": {},
   "outputs": [],
   "source": [
    "df_on_final = df_on_final.rename(columns = { 'Sales_y': 'Sales' })"
   ]
  },
  {
   "cell_type": "code",
   "execution_count": 55,
   "metadata": {},
   "outputs": [],
   "source": [
    "df_on_final = df_on_final.sort_values(by = 'Sales', ascending = False)"
   ]
  },
  {
   "cell_type": "code",
   "execution_count": 56,
   "metadata": {},
   "outputs": [
    {
     "data": {
      "text/plain": [
       "10"
      ]
     },
     "execution_count": 56,
     "metadata": {},
     "output_type": "execute_result"
    }
   ],
   "source": [
    "df_on_final['Product ID'].nunique()"
   ]
  },
  {
   "cell_type": "code",
   "execution_count": 62,
   "metadata": {},
   "outputs": [
    {
     "data": {
      "text/html": [
       "<div>\n",
       "<style scoped>\n",
       "    .dataframe tbody tr th:only-of-type {\n",
       "        vertical-align: middle;\n",
       "    }\n",
       "\n",
       "    .dataframe tbody tr th {\n",
       "        vertical-align: top;\n",
       "    }\n",
       "\n",
       "    .dataframe thead th {\n",
       "        text-align: right;\n",
       "    }\n",
       "</style>\n",
       "<table border=\"1\" class=\"dataframe\">\n",
       "  <thead>\n",
       "    <tr style=\"text-align: right;\">\n",
       "      <th></th>\n",
       "      <th>Sales</th>\n",
       "      <th>On</th>\n",
       "    </tr>\n",
       "    <tr>\n",
       "      <th>Product ID</th>\n",
       "      <th></th>\n",
       "      <th></th>\n",
       "    </tr>\n",
       "  </thead>\n",
       "  <tbody>\n",
       "    <tr>\n",
       "      <th>TEC-CO-10004722</th>\n",
       "      <td>61599.824</td>\n",
       "      <td>On</td>\n",
       "    </tr>\n",
       "    <tr>\n",
       "      <th>OFF-BI-10003527</th>\n",
       "      <td>27453.384</td>\n",
       "      <td>On</td>\n",
       "    </tr>\n",
       "    <tr>\n",
       "      <th>TEC-MA-10002412</th>\n",
       "      <td>22638.480</td>\n",
       "      <td>On</td>\n",
       "    </tr>\n",
       "    <tr>\n",
       "      <th>FUR-CH-10002024</th>\n",
       "      <td>21870.576</td>\n",
       "      <td>On</td>\n",
       "    </tr>\n",
       "    <tr>\n",
       "      <th>OFF-BI-10001359</th>\n",
       "      <td>19823.479</td>\n",
       "      <td>On</td>\n",
       "    </tr>\n",
       "    <tr>\n",
       "      <th>OFF-BI-10000545</th>\n",
       "      <td>19024.500</td>\n",
       "      <td>On</td>\n",
       "    </tr>\n",
       "    <tr>\n",
       "      <th>TEC-CO-10001449</th>\n",
       "      <td>18839.686</td>\n",
       "      <td>On</td>\n",
       "    </tr>\n",
       "    <tr>\n",
       "      <th>TEC-MA-10001127</th>\n",
       "      <td>18374.895</td>\n",
       "      <td>On</td>\n",
       "    </tr>\n",
       "    <tr>\n",
       "      <th>OFF-BI-10004995</th>\n",
       "      <td>17965.068</td>\n",
       "      <td>On</td>\n",
       "    </tr>\n",
       "    <tr>\n",
       "      <th>OFF-SU-10000151</th>\n",
       "      <td>17030.312</td>\n",
       "      <td>On</td>\n",
       "    </tr>\n",
       "  </tbody>\n",
       "</table>\n",
       "</div>"
      ],
      "text/plain": [
       "                     Sales  On\n",
       "Product ID                    \n",
       "TEC-CO-10004722  61599.824  On\n",
       "OFF-BI-10003527  27453.384  On\n",
       "TEC-MA-10002412  22638.480  On\n",
       "FUR-CH-10002024  21870.576  On\n",
       "OFF-BI-10001359  19823.479  On\n",
       "OFF-BI-10000545  19024.500  On\n",
       "TEC-CO-10001449  18839.686  On\n",
       "TEC-MA-10001127  18374.895  On\n",
       "OFF-BI-10004995  17965.068  On\n",
       "OFF-SU-10000151  17030.312  On"
      ]
     },
     "execution_count": 62,
     "metadata": {},
     "output_type": "execute_result"
    }
   ],
   "source": [
    "df_sku_10"
   ]
  },
  {
   "cell_type": "code",
   "execution_count": 84,
   "metadata": {},
   "outputs": [],
   "source": [
    "import warnings\n",
    "\n",
    "# Suprimindo todos os avisos\n",
    "warnings.filterwarnings('ignore')"
   ]
  },
  {
   "cell_type": "code",
   "execution_count": 86,
   "metadata": {
    "id": "JQifStIPftAu"
   },
   "outputs": [
    {
     "data": {
      "image/png": "[encoded data removed]",
      "text/plain": [
       "<Figure size 800x800 with 1 Axes>"
      ]
     },
     "metadata": {},
     "output_type": "display_data"
    }
   ],
   "source": [
    "# Vamos criar o gráfico baseado nesse DataFrame\n",
    "fig,ax = plt.subplots(\n",
    "            figsize = (8,8)\n",
    "        )\n",
    "\n",
    "hgt = 0.2\n",
    "\n",
    "qtd_itens = 10\n",
    "\n",
    "ax.barh(np.arange(0,qtd_itens)-hgt-hgt/2, #Valores de y\n",
    "        df_on_final[df_on_final.Year == 2018].Sales.values, # Valores de x \n",
    "        align='center',\n",
    "        height=hgt, # Comprimento do gráfico\n",
    "        label=2018,\n",
    "        color=\"#0069c0\"\n",
    "       )\n",
    "\n",
    "ax.barh(np.arange(0,qtd_itens)-hgt/2, #Valores de y\n",
    "        df_on_final[df_on_final.Year == 2017].Sales.values, # Valores de x \n",
    "        align='center',height=hgt,label=2017,color=\"#008ac5\")\n",
    "\n",
    "\n",
    "ax.barh(np.arange(0,qtd_itens)+hgt/2, #Valores de y\n",
    "        df_on_final[df_on_final.Year == 2016].Sales.values, # Valores de x \n",
    "        align='center',height=hgt,label=2016,color=\"#00a9b5\")\n",
    "\n",
    "\n",
    "ax.barh(np.arange(0,qtd_itens)+hgt+hgt/2, #Valores de y\n",
    "        df_on_final[df_on_final.Year == 2015].Sales.values, # Valores de x \n",
    "        align='center',height=hgt,label=2015,color=\"#00c698\")\n",
    "\n",
    "\n",
    "ax.invert_yaxis() # Inverter o eixo y (deixando o gráfico do maior para o menor)\n",
    "\n",
    "for i in np.arange(0,qtd_itens):\n",
    "    ax.annotate('{:,.1f}k'.format(df_on_final[df_on_final.Year == 2018].Sales.values[i]/1000), \n",
    "                (df_on_final[df_on_final.Year == 2018].Sales.values[i],i-hgt-hgt/2), \n",
    "                ha=\"center\", va=\"top\", xytext=(20,6), textcoords=\"offset points\", \n",
    "                fontsize=12, fontweight='bold', color=\"#0069c0\")\n",
    "    \n",
    "ax.xaxis.set_visible(False) \n",
    "\n",
    "ax.spines['top'].set_visible(False) \n",
    "ax.spines['right'].set_visible(False)\n",
    "ax.spines['bottom'].set_visible(False)\n",
    "ax.spines['left'].set_visible(False)\n",
    "\n",
    "ax.tick_params(axis = 'both', length = 0)\n",
    "\n",
    "\n",
    "legenda = ax.legend(loc='lower right').get_frame()\n",
    "\n",
    "ax.set_yticklabels(labels = df_sku_10.index, fontweight = 'bold', fontsize = 10)\n",
    "\n",
    "\n",
    "legenda.set_facecolor('white')  # Cor de fundo\n",
    "legenda.set_linewidth(2)  # Largura da borda\n",
    "legenda.set_alpha(0.5)   # Transparência\n",
    "\n",
    "   \n",
    "ax.set_title(\"Top N produtos por ano\",fontsize=16,fontweight='bold',color='black')\n",
    "\n",
    "\n",
    "plt.show()"
   ]
  }
 ],
 "metadata": {
  "colab": {
   "name": "Criando uma apresentação executiva - Arquivo Inicial.ipynb",
   "provenance": []
  },
  "kernelspec": {
   "display_name": "Python 3 (ipykernel)",
   "language": "python",
   "name": "python3"
  },
  "language_info": {
   "codemirror_mode": {
    "name": "ipython",
    "version": 3
   },
   "file_extension": ".py",
   "mimetype": "text/x-python",
   "name": "python",
   "nbconvert_exporter": "python",
   "pygments_lexer": "ipython3",
   "version": "3.12.3"
  }
 },
 "nbformat": 4,
 "nbformat_minor": 4
}
