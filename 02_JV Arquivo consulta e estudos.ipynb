{
 "cells": [
  {
   "cell_type": "code",
   "execution_count": 1,
   "id": "3d0e90bc-64e1-4054-8ac6-ae77e6002151",
   "metadata": {},
   "outputs": [
    {
     "ename": "NameError",
     "evalue": "name 'plt' is not defined",
     "output_type": "error",
     "traceback": [
      "\u001b[1;31m---------------------------------------------------------------------------\u001b[0m",
      "\u001b[1;31mNameError\u001b[0m                                 Traceback (most recent call last)",
      "Cell \u001b[1;32mIn[1], line 1\u001b[0m\n\u001b[1;32m----> 1\u001b[0m fig,ax \u001b[38;5;241m=\u001b[39m \u001b[43mplt\u001b[49m\u001b[38;5;241m.\u001b[39msubplots(\n\u001b[0;32m      2\u001b[0m             figsize \u001b[38;5;241m=\u001b[39m (\u001b[38;5;241m9\u001b[39m,\u001b[38;5;241m4\u001b[39m) \u001b[38;5;66;03m# Tamanho da figura\u001b[39;00m\n\u001b[0;32m      3\u001b[0m         )\n\u001b[0;32m      5\u001b[0m \u001b[38;5;66;03m# soma_ano = base.groupby(\"Ano\")[\"Sales\"].sum() # Valores que vamos usar para criar o nosso gráfico\u001b[39;00m\n\u001b[0;32m      7\u001b[0m ax\u001b[38;5;241m.\u001b[39mbar(base_agrp\u001b[38;5;241m.\u001b[39mindex,base_agrp[\u001b[38;5;124m'\u001b[39m\u001b[38;5;124mSales\u001b[39m\u001b[38;5;124m'\u001b[39m],\n\u001b[0;32m      8\u001b[0m        color\u001b[38;5;241m=\u001b[39m\u001b[38;5;124m\"\u001b[39m\u001b[38;5;124m#84ba5b\u001b[39m\u001b[38;5;124m\"\u001b[39m \u001b[38;5;66;03m# Cor das barras\u001b[39;00m\n\u001b[0;32m      9\u001b[0m       )\n",
      "\u001b[1;31mNameError\u001b[0m: name 'plt' is not defined"
     ]
    }
   ],
   "source": [
    "fig,ax = plt.subplots(\n",
    "            figsize = (9,4) # Tamanho da figura\n",
    "        )\n",
    "\n",
    "# soma_ano = base.groupby(\"Ano\")[\"Sales\"].sum() # Valores que vamos usar para criar o nosso gráfico\n",
    "\n",
    "ax.bar(base_agrp.index,base_agrp['Sales'],\n",
    "       color=\"#84ba5b\" # Cor das barras\n",
    "      )\n",
    "\n",
    "ax.set_title(\"VENDAS POR ANO\", # Título do gráfico\n",
    "             fontsize=20, # Tamanho da fonte\n",
    "             fontweight='bold', # Espessura da fonte\n",
    "             color='#00b247' # Cor da fonte\n",
    "            )\n",
    "\n",
    "ax.xaxis.set_ticks([2015,2016,2017,2018]) # Ajustando os valores de x\n",
    "ax.tick_params(axis='x',labelsize=14) # Melhorando o visual do eixo x\n",
    "\n",
    "# O Annotate é quem vai permitir que a gente coloque rótulo nos dados\n",
    "for i in np.arange(0,4):\n",
    "    ax.annotate('{:,.0f}'.format(soma_ano.values[i]).replace(',', '.'), # Valores que vão ser mostrados como rótulos, já formatados\n",
    "                (soma_ano.index[i],soma_ano.values[i]), # Posição (x,y que esses valores vão estar)\n",
    "                ha=\"center\",  # Alinhamento horizontal do texto\n",
    "                va=\"top\", # Alinhamento vertical do texto\n",
    "                xytext=(0,+15), # Deslocamento em relação ao ponto que o texto estaria\n",
    "                textcoords=\"offset points\",  # Sistema de coordenadas que o xytext vai ter como referência (nesse caso será em pontos, não em pixels)\n",
    "                fontsize=14, # Tamanho da fonte dos rótulos\n",
    "                fontweight='bold', # Espessura da fonte dos rótulos\n",
    "                color=\"green\" # Cor dos rótulos\n",
    "            )\n",
    "    \n",
    "ax.set_yticks(np.array([0,790000])) # Diminuindo o tamanho das barras para não cortar o rótulo\n",
    "ax.yaxis.set_visible(False) # Retirando os valores do eixo y\n",
    "\n",
    "ax.spines['top'].set_visible(False) # Retirando os traços do gráfico\n",
    "ax.spines['left'].set_visible(False)\n",
    "ax.spines['right'].set_visible(False)\n",
    "\n",
    "plt.show()"
   ]
  },
  {
   "cell_type": "code",
   "execution_count": null,
   "id": "97c8f73e-b27a-44aa-8278-c2382e521602",
   "metadata": {},
   "outputs": [],
   "source": []
  }
 ],
 "metadata": {
  "kernelspec": {
   "display_name": "Python 3 (ipykernel)",
   "language": "python",
   "name": "python3"
  },
  "language_info": {
   "codemirror_mode": {
    "name": "ipython",
    "version": 3
   },
   "file_extension": ".py",
   "mimetype": "text/x-python",
   "name": "python",
   "nbconvert_exporter": "python",
   "pygments_lexer": "ipython3",
   "version": "3.12.3"
  }
 },
 "nbformat": 4,
 "nbformat_minor": 5
}
